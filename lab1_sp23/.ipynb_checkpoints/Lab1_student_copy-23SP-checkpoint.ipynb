{
 "cells": [
  {
   "cell_type": "code",
   "execution_count": 3,
   "metadata": {},
   "outputs": [
    {
     "name": "stdout",
     "output_type": "stream",
     "text": [
      "\n",
      "Usage:   \n",
      "  pip3 install [options] <requirement specifier> [package-index-options] ...\n",
      "  pip3 install [options] -r <requirements file> [package-index-options] ...\n",
      "  pip3 install [options] [-e] <vcs project url> ...\n",
      "  pip3 install [options] [-e] <local project path> ...\n",
      "  pip3 install [options] <archive url/path> ...\n",
      "\n",
      "no such option: --yes\n",
      "\n",
      "Usage:   \n",
      "  pip3 install [options] <requirement specifier> [package-index-options] ...\n",
      "  pip3 install [options] -r <requirements file> [package-index-options] ...\n",
      "  pip3 install [options] [-e] <vcs project url> ...\n",
      "  pip3 install [options] [-e] <local project path> ...\n",
      "  pip3 install [options] <archive url/path> ...\n",
      "\n",
      "no such option: --yes\n",
      "\n",
      "Usage:   \n",
      "  pip3 install [options] <requirement specifier> [package-index-options] ...\n",
      "  pip3 install [options] -r <requirements file> [package-index-options] ...\n",
      "  pip3 install [options] [-e] <vcs project url> ...\n",
      "  pip3 install [options] [-e] <local project path> ...\n",
      "  pip3 install [options] <archive url/path> ...\n",
      "\n",
      "no such option: --yes\n"
     ]
    }
   ],
   "source": [
    "import sys\n",
    "!pip3 install --prefix {sys.prefix} numpy\n",
    "!pip3 install --prefix {sys.prefix} matplotlib\n",
    "!pip3 install  --prefix {sys.prefix} pandas\n",
    "# !conda install --yes --prefix {sys.prefix} numpy"
   ]
  },
  {
   "cell_type": "markdown",
   "metadata": {},
   "source": [
    "ECE479 LAB 1: Python, NumPy and Data Analytics Basics\n",
    "====================================\n",
    "\n",
    "**Report Due: Feb 14, 11:59 PM**"
   ]
  },
  {
   "cell_type": "markdown",
   "metadata": {},
   "source": [
    "In LAB 1, you will learn the basics of Python programming and the NumPy library by practicing basic image processing operations, including image cropping, Gaussian Filtering, and up/downsampling. In addition, you will have to implement two classical data analytics algorithms with Python and NumPy.\n",
    "\n",
    "If you do not have Python programming experience before, you can use the below links for a quick tutorial.\n",
    "\n",
    "Python tutorial: https://docs.python.org/3.9/tutorial/\n",
    "\n",
    "Python: How to fetch internet resources using urllib:\n",
    "https://docs.python.org/3/howto/urllib2.html\n"
   ]
  },
  {
   "cell_type": "markdown",
   "metadata": {},
   "source": [
    "## PART I: Python Basics: NumPy"
   ]
  },
  {
   "cell_type": "markdown",
   "metadata": {},
   "source": [
    "NumPy is a foundational library in python that works with numbers and arrays. We will be using NumPy extensively to work with array computations in the following labs. Before we start, please check if you have successfully installed the Numpy package. NumPy [Tutorial][link_numpy_start] is available for your reference. (All blue words have hyperlinks embedded for your convenience.)\n",
    "\n",
    "[link_numpy_start]: https://docs.scipy.org/doc/numpy/user/quickstart.html\n",
    "\n",
    "To install dependencies for lab1, please use \"pip install -r requirements.txt\".\n",
    "\n",
    "Once you are ready, please complete the following tasks: \n",
    "(NOTE: In the following tasks, you are **NOT** allowed to use explicit `for` loops. Each task should only require very few lines of code.)\n",
    "\n",
    "  * **Step 1**: Generate a 2-D all-zero NumPy array **A**, with the size of 9 x 6 (row x column). Print the type and shape of **A**.  \n",
    "  Hint: `type(A)`returns the type of an object `A`.\n",
    "  * **Step 2**: Create a block-I shape by replacing certain elements from 0 to 1 in array **A**.\n",
    "  * **Step 3**: Generate a 2-D array **B** by filling zero-vector at the top and bottom of the array **A**.\n",
    "  \n",
    "  ![sec1_img](figures/block-I.png)\n",
    "  \n",
    "  * **Step 4**: Generate a 2-D array **C**, with numbers 1, 2, 3, ..., 65, 66 filled in row by row, starting from the top-left corner of the array. The size of **C** is 11 x 6 (row x column, the same size as array **B**).\n",
    "  * **Step 5**: Perform element-wise multiplication between **B** and **C** and store the result in array **D**.\n",
    "  * **Step 6**: Take the non-zero elements in **D** and store into a new 1-D array **E**.\n",
    "  * **Step 7**: Normalize the elements in **E** and store in **F** using equations:  \n",
    "    ```Python\n",
    "        max, min = E.max(), E.min()\n",
    "\n",
    "        val_normalized = (val_original - min) / (max - min)\n",
    "    ```\n",
    "  * **Step 8**: Find the element in **F** with the closest absolute value to 0.25 and print it on screen."
   ]
  },
  {
   "cell_type": "code",
   "execution_count": 1,
   "metadata": {},
   "outputs": [
    {
     "ename": "ModuleNotFoundError",
     "evalue": "No module named 'numpy'",
     "output_type": "error",
     "traceback": [
      "\u001b[0;31m---------------------------------------------------------------------------\u001b[0m",
      "\u001b[0;31mModuleNotFoundError\u001b[0m                       Traceback (most recent call last)",
      "Cell \u001b[0;32mIn[1], line 1\u001b[0m\n\u001b[0;32m----> 1\u001b[0m \u001b[38;5;28;01mimport\u001b[39;00m \u001b[38;5;21;01mnumpy\u001b[39;00m \u001b[38;5;28;01mas\u001b[39;00m \u001b[38;5;21;01mnp\u001b[39;00m\n\u001b[1;32m      3\u001b[0m \u001b[38;5;66;03m# Step 1\u001b[39;00m\n\u001b[1;32m      4\u001b[0m A \u001b[38;5;241m=\u001b[39m np\u001b[38;5;241m.\u001b[39mzeros((\u001b[38;5;241m9\u001b[39m, \u001b[38;5;241m6\u001b[39m))\n",
      "\u001b[0;31mModuleNotFoundError\u001b[0m: No module named 'numpy'"
     ]
    }
   ],
   "source": [
    "import numpy as np\n",
    "\n",
    "# Step 1\n",
    "A = np.zeros((9, 6))\n",
    "print(type(A), A.shape)\n",
    "\n",
    "# Step 2\n",
    "# np.put(A, [0, 1, 7, 8], [[0, 1, 1, 1, 1, 0]])\n",
    "A[:2, 1:5] = np.ones((2, 4))\n",
    "A[7:, 1:5] = np.ones((2, 4))\n",
    "A[2:7, 2:4] = np.ones((5, 2))\n",
    "# print(A)\n",
    "\n",
    "# Step 3\n",
    "B = np.vstack((np.zeros(6), A, np.zeros(6)))\n",
    "# print(B)\n",
    "\n",
    "# Step 4\n",
    "C = np.arange(11*6).reshape(11, 6)\n",
    "# print(C)\n",
    "\n",
    "# Step 5\n",
    "D = B * C\n",
    "# print(D)\n",
    "\n",
    "# Step 6\n",
    "E = D[np.where(D != 0)]\n",
    "# print(E)\n",
    "\n",
    "# Step 7\n",
    "maximum, minimum = E.max(), E.min()\n",
    "F = (E - minimum) / (maximum - minimum)\n",
    "# print(F)\n",
    "\n",
    "# Step 8\n",
    "diff_F = np.abs(F - 0.25)\n",
    "idx = diff_F.argmin()\n",
    "print(\"Closest to 0.25 is at index\", idx, \"with a value of\", F[idx])"
   ]
  },
  {
   "cell_type": "markdown",
   "metadata": {},
   "source": [
    "## PART II: More Python: Image Processing"
   ]
  },
  {
   "cell_type": "markdown",
   "metadata": {},
   "source": [
    "With the basic knowledge of NumPy, we will move on to play with some images in the form of NumPy arrays. You may find these two packages helpful in this part: [pillow][pillow_doc] and [matplotlib][matplotlib_doc]. Pillow is an image library for python. It is capable of handling many image-processing related tasks. Matplotlib is a commonly used package for plotting graphs and images in python. We should only be using some very basic functions of those two libraries in the following tasks. \n",
    "\n",
    "**In your report, you should show the resulting images of each step.**\n",
    "\n",
    "  * **Step 1**: Read the image from `'figures/tulips.png'`, and convert it into a NumPy array. Print the type and the shape of the array. Display the array (which has been converted from the image). You can use [Image.open(...)][Image_open_doc] function from the pillow package to read the image and use [imshow(...)][imshow_doc] from the matplotlib package to display the cropped image (refer to **Step 2**). Notice that each pixel is represented by an integer number ranging from 0 to 255 in the output of `Image.open(...)`, so you may need to normalize pixel values to range [0.0, 1.0] (floating points) to make sure all pixels' values are still within the valid range after we apply the filters in following steps. Be careful, the image has three channels, which represent Red, Green and Blue respectively.\n",
    "\n",
    "[pillow_doc]:https://pillow.readthedocs.io/en/stable/\n",
    "[matplotlib_doc]:https://matplotlib.org/index.html\n",
    "[Image_open_doc]:https://pillow.readthedocs.io/en/stable/reference/Image.html\n",
    "[imshow_doc]:https://matplotlib.org/3.3.3/api/_as_gen/matplotlib.pyplot.imshow.html"
   ]
  },
  {
   "cell_type": "code",
   "execution_count": null,
   "metadata": {},
   "outputs": [
    {
     "ename": "",
     "evalue": "",
     "output_type": "error",
     "traceback": [
      "\u001b[1;31mFailed to start the Kernel. \n",
      "\u001b[1;31mJupyter server crashed. Unable to connect. \n",
      "\u001b[1;31mError code from Jupyter: 1\n",
      "\u001b[1;31musage: jupyter.py [-h] [--version] [--config-dir] [--data-dir] [--runtime-dir]\n",
      "\u001b[1;31m                  [--paths] [--json] [--debug]\n",
      "\u001b[1;31m                  [subcommand]\n",
      "\u001b[1;31m\n",
      "\u001b[1;31mJupyter: Interactive Computing\n",
      "\u001b[1;31m\n",
      "\u001b[1;31mpositional arguments:\n",
      "\u001b[1;31m  subcommand     the subcommand to launch\n",
      "\u001b[1;31m\n",
      "\u001b[1;31moptions:\n",
      "\u001b[1;31m  -h, --help     show this help message and exit\n",
      "\u001b[1;31m  --version      show the versions of core jupyter packages and exit\n",
      "\u001b[1;31m  --config-dir   show Jupyter config dir\n",
      "\u001b[1;31m  --data-dir     show Jupyter data dir\n",
      "\u001b[1;31m  --runtime-dir  show Jupyter runtime dir\n",
      "\u001b[1;31m  --paths        show all Jupyter paths. Add --json for machine-readable\n",
      "\u001b[1;31m                 format.\n",
      "\u001b[1;31m  --json         output paths as machine-readable json\n",
      "\u001b[1;31m  --debug        output debug information about paths\n",
      "\u001b[1;31m\n",
      "\u001b[1;31mAvailable subcommands:\n",
      "\u001b[1;31m\n",
      "\u001b[1;31mJupyter command `jupyter-notebook` not found. \n",
      "\u001b[1;31mView Jupyter <a href='command:jupyter.viewOutput'>log</a> for further details."
     ]
    }
   ],
   "source": [
    "import numpy as np\n",
    "from PIL import Image\n",
    "from matplotlib import pyplot as plt\n",
    "\n",
    "tulip = Image.open('./figures/tulips.png')\n",
    "plt.imshow(tulip)"
   ]
  },
  {
   "cell_type": "markdown",
   "metadata": {},
   "source": [
    "  * **Step 2**: Center-crop the image into dimension (200, 200, 3), meaning that you should crop the central portion of the image to the target height and width. For example:\n",
    "  ![center_crop_img](figures/center-crop.jpg)"
   ]
  },
  {
   "cell_type": "code",
   "execution_count": null,
   "metadata": {},
   "outputs": [
    {
     "ename": "",
     "evalue": "",
     "output_type": "error",
     "traceback": [
      "\u001b[1;31mFailed to start the Kernel. \n",
      "\u001b[1;31mJupyter server crashed. Unable to connect. \n",
      "\u001b[1;31mError code from Jupyter: 1\n",
      "\u001b[1;31musage: jupyter.py [-h] [--version] [--config-dir] [--data-dir] [--runtime-dir]\n",
      "\u001b[1;31m                  [--paths] [--json] [--debug]\n",
      "\u001b[1;31m                  [subcommand]\n",
      "\u001b[1;31m\n",
      "\u001b[1;31mJupyter: Interactive Computing\n",
      "\u001b[1;31m\n",
      "\u001b[1;31mpositional arguments:\n",
      "\u001b[1;31m  subcommand     the subcommand to launch\n",
      "\u001b[1;31m\n",
      "\u001b[1;31moptions:\n",
      "\u001b[1;31m  -h, --help     show this help message and exit\n",
      "\u001b[1;31m  --version      show the versions of core jupyter packages and exit\n",
      "\u001b[1;31m  --config-dir   show Jupyter config dir\n",
      "\u001b[1;31m  --data-dir     show Jupyter data dir\n",
      "\u001b[1;31m  --runtime-dir  show Jupyter runtime dir\n",
      "\u001b[1;31m  --paths        show all Jupyter paths. Add --json for machine-readable\n",
      "\u001b[1;31m                 format.\n",
      "\u001b[1;31m  --json         output paths as machine-readable json\n",
      "\u001b[1;31m  --debug        output debug information about paths\n",
      "\u001b[1;31m\n",
      "\u001b[1;31mAvailable subcommands:\n",
      "\u001b[1;31m\n",
      "\u001b[1;31mJupyter command `jupyter-notebook` not found. \n",
      "\u001b[1;31mView Jupyter <a href='command:jupyter.viewOutput'>log</a> for further details."
     ]
    }
   ],
   "source": [
    "w, h = tulip.size\n",
    "left = (w - 200) / 2\n",
    "right = (w + 200) / 2\n",
    "top = (h - 200) / 2\n",
    "bottom = (h + 200) / 2\n",
    "\n",
    "tulip_cropped = tulip.crop((left, top, right, bottom))\n",
    "plt.imshow(tulip_cropped)"
   ]
  },
  {
   "cell_type": "markdown",
   "metadata": {},
   "source": [
    "  * **Step 3**: We will then apply filters to the processed image. In order to preserve the orginial dimensions (H, W, C) of the image after the filtering, we need to properly pad the image first. Similar to **PART I Step 3**, pad the image with zeros on all four edges. You can use [pad(...)][pad_doc] function from the numpy pacakge to do this.\n",
    "\n",
    "[pad_doc]:https://numpy.org/doc/stable/reference/generated/numpy.pad.html"
   ]
  },
  {
   "cell_type": "code",
   "execution_count": null,
   "metadata": {},
   "outputs": [
    {
     "ename": "",
     "evalue": "",
     "output_type": "error",
     "traceback": [
      "\u001b[1;31mFailed to start the Kernel. \n",
      "\u001b[1;31mJupyter server crashed. Unable to connect. \n",
      "\u001b[1;31mError code from Jupyter: 1\n",
      "\u001b[1;31musage: jupyter.py [-h] [--version] [--config-dir] [--data-dir] [--runtime-dir]\n",
      "\u001b[1;31m                  [--paths] [--json] [--debug]\n",
      "\u001b[1;31m                  [subcommand]\n",
      "\u001b[1;31m\n",
      "\u001b[1;31mJupyter: Interactive Computing\n",
      "\u001b[1;31m\n",
      "\u001b[1;31mpositional arguments:\n",
      "\u001b[1;31m  subcommand     the subcommand to launch\n",
      "\u001b[1;31m\n",
      "\u001b[1;31moptions:\n",
      "\u001b[1;31m  -h, --help     show this help message and exit\n",
      "\u001b[1;31m  --version      show the versions of core jupyter packages and exit\n",
      "\u001b[1;31m  --config-dir   show Jupyter config dir\n",
      "\u001b[1;31m  --data-dir     show Jupyter data dir\n",
      "\u001b[1;31m  --runtime-dir  show Jupyter runtime dir\n",
      "\u001b[1;31m  --paths        show all Jupyter paths. Add --json for machine-readable\n",
      "\u001b[1;31m                 format.\n",
      "\u001b[1;31m  --json         output paths as machine-readable json\n",
      "\u001b[1;31m  --debug        output debug information about paths\n",
      "\u001b[1;31m\n",
      "\u001b[1;31mAvailable subcommands:\n",
      "\u001b[1;31m\n",
      "\u001b[1;31mJupyter command `jupyter-notebook` not found. \n",
      "\u001b[1;31mView Jupyter <a href='command:jupyter.viewOutput'>log</a> for further details."
     ]
    }
   ],
   "source": [
    "tulip_pad = np.pad(tulip_cropped, ((1,1), (1,1), (0,0)), mode='constant')\n",
    "print(tulip_pad)\n",
    "plt.imshow(tulip_pad)"
   ]
  },
  {
   "cell_type": "markdown",
   "metadata": {},
   "source": [
    "  * **Step 4**: 2-D convolution is one of the very basic of operations of image processing. The 2-D convolution of a filter on an image is the operation of multiplying each pixel in the overlapping portion of the \"sliding window\" and then add these pixels together to make one output pixel. There is an excellent video explainning the basics [here][2d_conv_video]. You may read more [here][2d_conv]. \n",
    "    The pseudocode is shown below:\n",
    "    ```\n",
    "    for row in # of rows of output:\n",
    "        for col in # of columns of output:\n",
    "            for ch in # of channels of input/output:\n",
    "                sum = 0\n",
    "                for kh in # rows of filter:\n",
    "                    for kw in # columns of filter:\n",
    "                        sum += input[row+kh][col+kw][ch] * filter[kh][kw]\n",
    "                output[row][col][ch] = sum\n",
    "    ```\n",
    "    \n",
    "    It it important to note that this pseudocode is slightly different from what a convolution looks like in a Convolutional Neural Network (CNN). The difference comes from how we apply the filters. We will talk more about the convolutions in CNN later in the course. \n",
    "    \n",
    "    Now, use the following filters to process the original picture and display the results. **You should write your own 2-D convolution kernel code derived from the above pseudocode instead of using existing pre-written conv functions from any packages.**\n",
    "    \n",
    "    As a side note, the original image has three channels, and you should apply the filter to each of the three channels separately.\n",
    " \n",
    "    1. Gaussian Blur\n",
    "    ``` Python\n",
    "        gaussian_filter = np.asarray([\n",
    "            [1,  4,  6,  4,  1],\n",
    "            [4, 16, 24, 16,  4],\n",
    "            [6, 24, 36, 24,  6],\n",
    "            [4, 16, 24, 16,  4],\n",
    "            [1,  4,  6,  4,  1]\n",
    "        ], dtype=np.float32)\n",
    "        gaussian_blur = gaussian_filter/np.sum(gaussian_filter)\n",
    "    ```\n",
    "    \n",
    "    2. Motion Blur\n",
    "    ``` Python\n",
    "        motion_filter = np.asarray([\n",
    "            [1, 0, 0, 0, 0, 0, 0],\n",
    "            [0, 1, 0, 0, 0, 0, 0],\n",
    "            [0, 0, 1, 0, 0, 0, 0],\n",
    "            [0, 0, 0, 1, 0, 0, 0],\n",
    "            [0, 0, 0, 0, 1, 0, 0],\n",
    "            [0, 0, 0, 0, 0, 1, 0],\n",
    "            [0, 0, 0, 0, 0, 0, 1],\n",
    "        ], dtype=np.float32)\n",
    "        motion_blur = motion_filter/np.sum(motion_filter)\n",
    "    ```\n",
    "\n",
    "    3. Edge Detection\n",
    "    ``` Python\n",
    "        edge_filter = np.asarray([\n",
    "        [-1, -1, -1],\n",
    "        [-1,  8, -1],\n",
    "        [-1, -1, -1]\n",
    "        ], dtype=np.float32)\n",
    "    ```\n",
    "[2d_conv_video]:https://www.youtube.com/watch?v=C_zFhWdM4ic\n",
    "[2d_conv]:https://www.allaboutcircuits.com/technical-articles/two-dimensional-convolution-in-image-processing/\n"
   ]
  },
  {
   "cell_type": "code",
   "execution_count": null,
   "metadata": {},
   "outputs": [
    {
     "ename": "",
     "evalue": "",
     "output_type": "error",
     "traceback": [
      "\u001b[1;31mFailed to start the Kernel. \n",
      "\u001b[1;31mJupyter server crashed. Unable to connect. \n",
      "\u001b[1;31mError code from Jupyter: 1\n",
      "\u001b[1;31musage: jupyter.py [-h] [--version] [--config-dir] [--data-dir] [--runtime-dir]\n",
      "\u001b[1;31m                  [--paths] [--json] [--debug]\n",
      "\u001b[1;31m                  [subcommand]\n",
      "\u001b[1;31m\n",
      "\u001b[1;31mJupyter: Interactive Computing\n",
      "\u001b[1;31m\n",
      "\u001b[1;31mpositional arguments:\n",
      "\u001b[1;31m  subcommand     the subcommand to launch\n",
      "\u001b[1;31m\n",
      "\u001b[1;31moptions:\n",
      "\u001b[1;31m  -h, --help     show this help message and exit\n",
      "\u001b[1;31m  --version      show the versions of core jupyter packages and exit\n",
      "\u001b[1;31m  --config-dir   show Jupyter config dir\n",
      "\u001b[1;31m  --data-dir     show Jupyter data dir\n",
      "\u001b[1;31m  --runtime-dir  show Jupyter runtime dir\n",
      "\u001b[1;31m  --paths        show all Jupyter paths. Add --json for machine-readable\n",
      "\u001b[1;31m                 format.\n",
      "\u001b[1;31m  --json         output paths as machine-readable json\n",
      "\u001b[1;31m  --debug        output debug information about paths\n",
      "\u001b[1;31m\n",
      "\u001b[1;31mAvailable subcommands:\n",
      "\u001b[1;31m\n",
      "\u001b[1;31mJupyter command `jupyter-notebook` not found. \n",
      "\u001b[1;31mView Jupyter <a href='command:jupyter.viewOutput'>log</a> for further details."
     ]
    }
   ],
   "source": [
    "### import the packages and functions here ###\n",
    "### your code goes here ###\n",
    "### Part 1 Define a convolution function\n",
    "def conv(input, filter):\n",
    "    output = np.zeros(input.shape)\n",
    "    for row in range(output.shape[0] - filter.shape[0] - 1): # adjusting for padding and size of filter\n",
    "        for col in range(output.shape[1] - filter.shape[0] - 1):\n",
    "            for ch in range(output.shape[2]):\n",
    "                sum = 0\n",
    "                for kh in range(filter.shape[0]):\n",
    "                    for kw in range(filter.shape[1]):\n",
    "                        sum += input[row + kh][col + kw][ch] * filter[kh][kw]\n",
    "                output[row][col][ch] = sum\n",
    "                \n",
    "    return output.astype(int)\n",
    "                \n"
   ]
  },
  {
   "cell_type": "code",
   "execution_count": null,
   "metadata": {},
   "outputs": [
    {
     "ename": "",
     "evalue": "",
     "output_type": "error",
     "traceback": [
      "\u001b[1;31mFailed to start the Kernel. \n",
      "\u001b[1;31mJupyter server crashed. Unable to connect. \n",
      "\u001b[1;31mError code from Jupyter: 1\n",
      "\u001b[1;31musage: jupyter.py [-h] [--version] [--config-dir] [--data-dir] [--runtime-dir]\n",
      "\u001b[1;31m                  [--paths] [--json] [--debug]\n",
      "\u001b[1;31m                  [subcommand]\n",
      "\u001b[1;31m\n",
      "\u001b[1;31mJupyter: Interactive Computing\n",
      "\u001b[1;31m\n",
      "\u001b[1;31mpositional arguments:\n",
      "\u001b[1;31m  subcommand     the subcommand to launch\n",
      "\u001b[1;31m\n",
      "\u001b[1;31moptions:\n",
      "\u001b[1;31m  -h, --help     show this help message and exit\n",
      "\u001b[1;31m  --version      show the versions of core jupyter packages and exit\n",
      "\u001b[1;31m  --config-dir   show Jupyter config dir\n",
      "\u001b[1;31m  --data-dir     show Jupyter data dir\n",
      "\u001b[1;31m  --runtime-dir  show Jupyter runtime dir\n",
      "\u001b[1;31m  --paths        show all Jupyter paths. Add --json for machine-readable\n",
      "\u001b[1;31m                 format.\n",
      "\u001b[1;31m  --json         output paths as machine-readable json\n",
      "\u001b[1;31m  --debug        output debug information about paths\n",
      "\u001b[1;31m\n",
      "\u001b[1;31mAvailable subcommands:\n",
      "\u001b[1;31m\n",
      "\u001b[1;31mJupyter command `jupyter-notebook` not found. \n",
      "\u001b[1;31mView Jupyter <a href='command:jupyter.viewOutput'>log</a> for further details."
     ]
    }
   ],
   "source": [
    "### Part 2 Apply the Gaussian filter\n",
    "gaussian_filter = np.asarray([\n",
    "  [1,  4,  6,  4,  1],\n",
    "  [4, 16, 24, 16,  4],\n",
    "  [6, 24, 36, 24,  6],\n",
    "  [4, 16, 24, 16,  4],\n",
    "  [1,  4,  6,  4,  1],\n",
    "], dtype=np.float32)\n",
    "gaussian_blur = gaussian_filter/np.sum(gaussian_filter)\n",
    "### import the packages and functions here ###\n",
    "### your code goes here ###\n",
    "out = conv(tulip_pad, gaussian_blur)"
   ]
  },
  {
   "cell_type": "code",
   "execution_count": null,
   "metadata": {},
   "outputs": [
    {
     "ename": "",
     "evalue": "",
     "output_type": "error",
     "traceback": [
      "\u001b[1;31mFailed to start the Kernel. \n",
      "\u001b[1;31mJupyter server crashed. Unable to connect. \n",
      "\u001b[1;31mError code from Jupyter: 1\n",
      "\u001b[1;31musage: jupyter.py [-h] [--version] [--config-dir] [--data-dir] [--runtime-dir]\n",
      "\u001b[1;31m                  [--paths] [--json] [--debug]\n",
      "\u001b[1;31m                  [subcommand]\n",
      "\u001b[1;31m\n",
      "\u001b[1;31mJupyter: Interactive Computing\n",
      "\u001b[1;31m\n",
      "\u001b[1;31mpositional arguments:\n",
      "\u001b[1;31m  subcommand     the subcommand to launch\n",
      "\u001b[1;31m\n",
      "\u001b[1;31moptions:\n",
      "\u001b[1;31m  -h, --help     show this help message and exit\n",
      "\u001b[1;31m  --version      show the versions of core jupyter packages and exit\n",
      "\u001b[1;31m  --config-dir   show Jupyter config dir\n",
      "\u001b[1;31m  --data-dir     show Jupyter data dir\n",
      "\u001b[1;31m  --runtime-dir  show Jupyter runtime dir\n",
      "\u001b[1;31m  --paths        show all Jupyter paths. Add --json for machine-readable\n",
      "\u001b[1;31m                 format.\n",
      "\u001b[1;31m  --json         output paths as machine-readable json\n",
      "\u001b[1;31m  --debug        output debug information about paths\n",
      "\u001b[1;31m\n",
      "\u001b[1;31mAvailable subcommands:\n",
      "\u001b[1;31m\n",
      "\u001b[1;31mJupyter command `jupyter-notebook` not found. \n",
      "\u001b[1;31mView Jupyter <a href='command:jupyter.viewOutput'>log</a> for further details."
     ]
    }
   ],
   "source": [
    "plt.imshow(out)"
   ]
  },
  {
   "cell_type": "code",
   "execution_count": null,
   "metadata": {},
   "outputs": [
    {
     "ename": "",
     "evalue": "",
     "output_type": "error",
     "traceback": [
      "\u001b[1;31mFailed to start the Kernel. \n",
      "\u001b[1;31mJupyter server crashed. Unable to connect. \n",
      "\u001b[1;31mError code from Jupyter: 1\n",
      "\u001b[1;31musage: jupyter.py [-h] [--version] [--config-dir] [--data-dir] [--runtime-dir]\n",
      "\u001b[1;31m                  [--paths] [--json] [--debug]\n",
      "\u001b[1;31m                  [subcommand]\n",
      "\u001b[1;31m\n",
      "\u001b[1;31mJupyter: Interactive Computing\n",
      "\u001b[1;31m\n",
      "\u001b[1;31mpositional arguments:\n",
      "\u001b[1;31m  subcommand     the subcommand to launch\n",
      "\u001b[1;31m\n",
      "\u001b[1;31moptions:\n",
      "\u001b[1;31m  -h, --help     show this help message and exit\n",
      "\u001b[1;31m  --version      show the versions of core jupyter packages and exit\n",
      "\u001b[1;31m  --config-dir   show Jupyter config dir\n",
      "\u001b[1;31m  --data-dir     show Jupyter data dir\n",
      "\u001b[1;31m  --runtime-dir  show Jupyter runtime dir\n",
      "\u001b[1;31m  --paths        show all Jupyter paths. Add --json for machine-readable\n",
      "\u001b[1;31m                 format.\n",
      "\u001b[1;31m  --json         output paths as machine-readable json\n",
      "\u001b[1;31m  --debug        output debug information about paths\n",
      "\u001b[1;31m\n",
      "\u001b[1;31mAvailable subcommands:\n",
      "\u001b[1;31m\n",
      "\u001b[1;31mJupyter command `jupyter-notebook` not found. \n",
      "\u001b[1;31mView Jupyter <a href='command:jupyter.viewOutput'>log</a> for further details."
     ]
    }
   ],
   "source": [
    "### Part 3 Apply the Motion Blur filter\n",
    "motion_filter = np.asarray([\n",
    "    [1, 0, 0, 0, 0, 0, 0],\n",
    "    [0, 1, 0, 0, 0, 0, 0],\n",
    "    [0, 0, 1, 0, 0, 0, 0],\n",
    "    [0, 0, 0, 1, 0, 0, 0],\n",
    "    [0, 0, 0, 0, 1, 0, 0],\n",
    "    [0, 0, 0, 0, 0, 1, 0],\n",
    "    [0, 0, 0, 0, 0, 0, 1],\n",
    "], dtype=np.float32)\n",
    "motion_blur = motion_filter/np.sum(motion_filter)\n",
    "### import the packages and functions here ###\n",
    "### your code goes here ###\n",
    "out = conv(tulip_pad, motion_blur)"
   ]
  },
  {
   "cell_type": "code",
   "execution_count": null,
   "metadata": {},
   "outputs": [
    {
     "ename": "",
     "evalue": "",
     "output_type": "error",
     "traceback": [
      "\u001b[1;31mFailed to start the Kernel. \n",
      "\u001b[1;31mJupyter server crashed. Unable to connect. \n",
      "\u001b[1;31mError code from Jupyter: 1\n",
      "\u001b[1;31musage: jupyter.py [-h] [--version] [--config-dir] [--data-dir] [--runtime-dir]\n",
      "\u001b[1;31m                  [--paths] [--json] [--debug]\n",
      "\u001b[1;31m                  [subcommand]\n",
      "\u001b[1;31m\n",
      "\u001b[1;31mJupyter: Interactive Computing\n",
      "\u001b[1;31m\n",
      "\u001b[1;31mpositional arguments:\n",
      "\u001b[1;31m  subcommand     the subcommand to launch\n",
      "\u001b[1;31m\n",
      "\u001b[1;31moptions:\n",
      "\u001b[1;31m  -h, --help     show this help message and exit\n",
      "\u001b[1;31m  --version      show the versions of core jupyter packages and exit\n",
      "\u001b[1;31m  --config-dir   show Jupyter config dir\n",
      "\u001b[1;31m  --data-dir     show Jupyter data dir\n",
      "\u001b[1;31m  --runtime-dir  show Jupyter runtime dir\n",
      "\u001b[1;31m  --paths        show all Jupyter paths. Add --json for machine-readable\n",
      "\u001b[1;31m                 format.\n",
      "\u001b[1;31m  --json         output paths as machine-readable json\n",
      "\u001b[1;31m  --debug        output debug information about paths\n",
      "\u001b[1;31m\n",
      "\u001b[1;31mAvailable subcommands:\n",
      "\u001b[1;31m\n",
      "\u001b[1;31mJupyter command `jupyter-notebook` not found. \n",
      "\u001b[1;31mView Jupyter <a href='command:jupyter.viewOutput'>log</a> for further details."
     ]
    }
   ],
   "source": [
    "plt.imshow(out)"
   ]
  },
  {
   "cell_type": "code",
   "execution_count": null,
   "metadata": {},
   "outputs": [
    {
     "ename": "",
     "evalue": "",
     "output_type": "error",
     "traceback": [
      "\u001b[1;31mFailed to start the Kernel. \n",
      "\u001b[1;31mJupyter server crashed. Unable to connect. \n",
      "\u001b[1;31mError code from Jupyter: 1\n",
      "\u001b[1;31musage: jupyter.py [-h] [--version] [--config-dir] [--data-dir] [--runtime-dir]\n",
      "\u001b[1;31m                  [--paths] [--json] [--debug]\n",
      "\u001b[1;31m                  [subcommand]\n",
      "\u001b[1;31m\n",
      "\u001b[1;31mJupyter: Interactive Computing\n",
      "\u001b[1;31m\n",
      "\u001b[1;31mpositional arguments:\n",
      "\u001b[1;31m  subcommand     the subcommand to launch\n",
      "\u001b[1;31m\n",
      "\u001b[1;31moptions:\n",
      "\u001b[1;31m  -h, --help     show this help message and exit\n",
      "\u001b[1;31m  --version      show the versions of core jupyter packages and exit\n",
      "\u001b[1;31m  --config-dir   show Jupyter config dir\n",
      "\u001b[1;31m  --data-dir     show Jupyter data dir\n",
      "\u001b[1;31m  --runtime-dir  show Jupyter runtime dir\n",
      "\u001b[1;31m  --paths        show all Jupyter paths. Add --json for machine-readable\n",
      "\u001b[1;31m                 format.\n",
      "\u001b[1;31m  --json         output paths as machine-readable json\n",
      "\u001b[1;31m  --debug        output debug information about paths\n",
      "\u001b[1;31m\n",
      "\u001b[1;31mAvailable subcommands:\n",
      "\u001b[1;31m\n",
      "\u001b[1;31mJupyter command `jupyter-notebook` not found. \n",
      "\u001b[1;31mView Jupyter <a href='command:jupyter.viewOutput'>log</a> for further details."
     ]
    }
   ],
   "source": [
    "### Part 4 Apply the Edge Detection filter\n",
    "edge_filter = np.asarray([\n",
    "  [-1, -1, -1],\n",
    "  [-1,  8, -1],\n",
    "  [-1, -1, -1]\n",
    "], dtype=np.float32)\n",
    "### import the packages and functions here ###\n",
    "### your code goes here ###\n",
    "out = conv(tulip_pad, edge_filter)"
   ]
  },
  {
   "cell_type": "code",
   "execution_count": null,
   "metadata": {},
   "outputs": [
    {
     "ename": "",
     "evalue": "",
     "output_type": "error",
     "traceback": [
      "\u001b[1;31mFailed to start the Kernel. \n",
      "\u001b[1;31mJupyter server crashed. Unable to connect. \n",
      "\u001b[1;31mError code from Jupyter: 1\n",
      "\u001b[1;31musage: jupyter.py [-h] [--version] [--config-dir] [--data-dir] [--runtime-dir]\n",
      "\u001b[1;31m                  [--paths] [--json] [--debug]\n",
      "\u001b[1;31m                  [subcommand]\n",
      "\u001b[1;31m\n",
      "\u001b[1;31mJupyter: Interactive Computing\n",
      "\u001b[1;31m\n",
      "\u001b[1;31mpositional arguments:\n",
      "\u001b[1;31m  subcommand     the subcommand to launch\n",
      "\u001b[1;31m\n",
      "\u001b[1;31moptions:\n",
      "\u001b[1;31m  -h, --help     show this help message and exit\n",
      "\u001b[1;31m  --version      show the versions of core jupyter packages and exit\n",
      "\u001b[1;31m  --config-dir   show Jupyter config dir\n",
      "\u001b[1;31m  --data-dir     show Jupyter data dir\n",
      "\u001b[1;31m  --runtime-dir  show Jupyter runtime dir\n",
      "\u001b[1;31m  --paths        show all Jupyter paths. Add --json for machine-readable\n",
      "\u001b[1;31m                 format.\n",
      "\u001b[1;31m  --json         output paths as machine-readable json\n",
      "\u001b[1;31m  --debug        output debug information about paths\n",
      "\u001b[1;31m\n",
      "\u001b[1;31mAvailable subcommands:\n",
      "\u001b[1;31m\n",
      "\u001b[1;31mJupyter command `jupyter-notebook` not found. \n",
      "\u001b[1;31mView Jupyter <a href='command:jupyter.viewOutput'>log</a> for further details."
     ]
    }
   ],
   "source": [
    "plt.imshow(out)"
   ]
  },
  {
   "cell_type": "markdown",
   "metadata": {},
   "source": [
    " * **Step 5**: Also, we often need to downscale an image. We will use a basic algorithm to accomplish this: Gaussian pyramid. You can read about this technique [here][pyramid]. In this step, you will downsample the given image twice, each with a factor of two. In other words, you will first shrink the image to half of the size (2X smaller), then shrink it again by 2X. As a result, you will have an image that is one-fourth of its original size (4X smaller). We will try two approaches and see the difference.\n",
    "    1. Naive downsampling: you simply pick the 2nd, 4th, 6th, ..., nth pixels (every two pixels) by skipping one pixel each time. The resulting image should have one half of the size of the original. You repeat this process to obtain the 1/4 size image.\n",
    "    2. Gaussian pyramid: You apply the Gaussian filter to the image first, like what you have done in the previous step. After that, you downsample on the filtered image. Again, you pick the 2nd, 4th, 6th, ..., nth pixels by skipping one pixel each time when you downsample. Then, you repeat this process of \"filter and downsample\" to obtain the 1/4 size image. The Gaussian filter removes the high-frequency components from the image before downsampling, thus avoiding the aliasing problem as you will notice in the results.\n",
    "    \n",
    "    By displaying each picture in the process (two downsampled images per approach, four images in total), you may observe some difference in the results of the two techniques.\n",
    "[pyramid]:https://en.wikipedia.org/wiki/Pyramid_(image_processing)#:~:text=pyramid%20generation%20steps.-,Gaussian%20pyramid,lower%20level%20of%20the%20pyramid."
   ]
  },
  {
   "cell_type": "code",
   "execution_count": null,
   "metadata": {},
   "outputs": [
    {
     "ename": "",
     "evalue": "",
     "output_type": "error",
     "traceback": [
      "\u001b[1;31mFailed to start the Kernel. \n",
      "\u001b[1;31mJupyter server crashed. Unable to connect. \n",
      "\u001b[1;31mError code from Jupyter: 1\n",
      "\u001b[1;31musage: jupyter.py [-h] [--version] [--config-dir] [--data-dir] [--runtime-dir]\n",
      "\u001b[1;31m                  [--paths] [--json] [--debug]\n",
      "\u001b[1;31m                  [subcommand]\n",
      "\u001b[1;31m\n",
      "\u001b[1;31mJupyter: Interactive Computing\n",
      "\u001b[1;31m\n",
      "\u001b[1;31mpositional arguments:\n",
      "\u001b[1;31m  subcommand     the subcommand to launch\n",
      "\u001b[1;31m\n",
      "\u001b[1;31moptions:\n",
      "\u001b[1;31m  -h, --help     show this help message and exit\n",
      "\u001b[1;31m  --version      show the versions of core jupyter packages and exit\n",
      "\u001b[1;31m  --config-dir   show Jupyter config dir\n",
      "\u001b[1;31m  --data-dir     show Jupyter data dir\n",
      "\u001b[1;31m  --runtime-dir  show Jupyter runtime dir\n",
      "\u001b[1;31m  --paths        show all Jupyter paths. Add --json for machine-readable\n",
      "\u001b[1;31m                 format.\n",
      "\u001b[1;31m  --json         output paths as machine-readable json\n",
      "\u001b[1;31m  --debug        output debug information about paths\n",
      "\u001b[1;31m\n",
      "\u001b[1;31mAvailable subcommands:\n",
      "\u001b[1;31m\n",
      "\u001b[1;31mJupyter command `jupyter-notebook` not found. \n",
      "\u001b[1;31mView Jupyter <a href='command:jupyter.viewOutput'>log</a> for further details."
     ]
    }
   ],
   "source": [
    "### Part 1 Naive downsampling\n",
    "\n",
    "def naiveDownsample(input):\n",
    "    naive_output = np.zeros((input.shape[0] // 2, input.shape[1] // 2, input.shape[2]))\n",
    "    choosePixel = False\n",
    "    count = 0\n",
    "    # print(input)\n",
    "    # return\n",
    "    print(input.shape)\n",
    "    for row in range(input.shape[0]):\n",
    "        for col in range(input.shape[1]):\n",
    "            if choosePixel:\n",
    "                naive_output[(row // 2) - 1][(col // 2) - 1] = input[row][col]\n",
    "                print(input[row])\n",
    "                print(input[row][col])\n",
    "                count += 1\n",
    "            \n",
    "            choosePixel = not choosePixel\n",
    "        \n",
    "        # print(count)\n",
    "    return naive_output\n",
    "\n",
    "sample1 = naiveDownsample(tulip_pad)\n",
    "sample2 = naiveDownsample(sample1)\n",
    "plt.imshow(sample1)"
   ]
  },
  {
   "cell_type": "code",
   "execution_count": null,
   "metadata": {},
   "outputs": [
    {
     "ename": "",
     "evalue": "",
     "output_type": "error",
     "traceback": [
      "\u001b[1;31mFailed to start the Kernel. \n",
      "\u001b[1;31mJupyter server crashed. Unable to connect. \n",
      "\u001b[1;31mError code from Jupyter: 1\n",
      "\u001b[1;31musage: jupyter.py [-h] [--version] [--config-dir] [--data-dir] [--runtime-dir]\n",
      "\u001b[1;31m                  [--paths] [--json] [--debug]\n",
      "\u001b[1;31m                  [subcommand]\n",
      "\u001b[1;31m\n",
      "\u001b[1;31mJupyter: Interactive Computing\n",
      "\u001b[1;31m\n",
      "\u001b[1;31mpositional arguments:\n",
      "\u001b[1;31m  subcommand     the subcommand to launch\n",
      "\u001b[1;31m\n",
      "\u001b[1;31moptions:\n",
      "\u001b[1;31m  -h, --help     show this help message and exit\n",
      "\u001b[1;31m  --version      show the versions of core jupyter packages and exit\n",
      "\u001b[1;31m  --config-dir   show Jupyter config dir\n",
      "\u001b[1;31m  --data-dir     show Jupyter data dir\n",
      "\u001b[1;31m  --runtime-dir  show Jupyter runtime dir\n",
      "\u001b[1;31m  --paths        show all Jupyter paths. Add --json for machine-readable\n",
      "\u001b[1;31m                 format.\n",
      "\u001b[1;31m  --json         output paths as machine-readable json\n",
      "\u001b[1;31m  --debug        output debug information about paths\n",
      "\u001b[1;31m\n",
      "\u001b[1;31mAvailable subcommands:\n",
      "\u001b[1;31m\n",
      "\u001b[1;31mJupyter command `jupyter-notebook` not found. \n",
      "\u001b[1;31mView Jupyter <a href='command:jupyter.viewOutput'>log</a> for further details."
     ]
    }
   ],
   "source": [
    "### import the packages and functions here ###\n",
    "### your code goes here ###\n",
    "### Part 2 Gaussian filter + downsampling\n"
   ]
  },
  {
   "cell_type": "markdown",
   "metadata": {},
   "source": [
    "## PART III: HTTP Communication, KNN and K-means in Python"
   ]
  },
  {
   "cell_type": "markdown",
   "metadata": {},
   "source": [
    "In this part of the lab, we will implement a system that communicates with a server to acquire test data and perform [k-nearest neighbor][knn] (KNN) classification and K-means clustering on your computer.\n",
    "\n",
    "The overall operation of the classification system is depicted in the following figure:\n",
    "\n",
    "<!-- ![server_img](figures/server_behavior.svg) -->\n",
    "<img src=\"figures/server_behavior.svg\" width=\"60%\">\n",
    "\n",
    "The system works in a [RESTful][RESTful_tutorial]-like manner, and there are five main steps in the whole process:\n",
    "1. **Request for data**\n",
    "   The user sends an HTTP request with a specific body content to request a set of testing samples to be classified.\n",
    "2. **Receive data**\n",
    "   Upon receiving the request, the server will generate five random test IDs and select these samples from the testing dataset. Then, it sends back the test samples as a text string in comma-separated values (CSV) format in the response, and each sample will have a unique test ID and four separate features to be used for inference. For this part of the lab, we will use the classic [Iris dataset][iris_wiki]. The dataset is already randomly split into training and testing datasets. The training dataset will be provided to you, and the testing dataset will be stored on the server.\n",
    "3. **Local inference**\n",
    "   The local system parses the CSV file and performs the inference on the five input samples with kNN, which will be trained on the training dataset provided to you.\n",
    "4. **Send results**\n",
    "   Once the classes of the five samples are determined, create a new `POST` request with the test ID and the results and send them to the server for verification.\n",
    "5. **Return verification**\n",
    "   Upon receiving the request, the server will first use the test IDs to find the ground truth labels of the test samples and compare them with the ones from the `POST` request. Finally, the server sends back, in the response, a number indicating the number of correct classifications.\n",
    "\n",
    "As introduced in the lecture, KNN is a classic machine learning algorithm that does not assume pre-defined parameters or data distributions. K is the number of nearest neighbors. When k = 1, the algorithm is simply the nearest neighbor algorithm. Intuitively, in the nearest neighbor algorithm, the unknown data point is classified as the same label as the known data point from which it has the least distance in the hyperspace, as shown in the following picture. \n",
    "\n",
    "![knn_k1_img](figures/knn_k1.png)\n",
    "\n",
    "In the k-nearest neighbor algorithm, you pick k data points that are closest to the unknown data. The k known data points make a collective decision on which label the unknown data should be assigned. The following three pictures show the process. \n",
    "\n",
    "![knn_k_img](figures/knn_k.png)\n",
    "\n",
    "<sup>(picture source: https://www.datacamp.com/community/tutorials/k-nearest-neighbor-classification-scikit-learn)</sup>\n",
    "\n",
    "On the other side, K-means clustering is one of the most popular unsupervised machine learning algorithms. The K-means algorithm in data mining starts with a K group of randomly selected centroids, which are used as the beginning points for every cluster, and then performs iterative (repetitive) calculations to optimize the positions of the centroids. The process is shown in the following picture.\n",
    "\n",
    "It halts creating and optimizing clusters when either:\n",
    "\n",
    "1. The centroids have stabilized — there is no change in their values because the clustering has been successful.\n",
    "2. The defined number of iterations has been achieved.\n",
    "\n",
    "<img src=\"figures/kmeans.png\" width=\"500\" height=\"500\">\n",
    "<!-- ![kmeans_img](figures/kmeans.png).size(0.5) -->\n",
    "\n",
    "<sup>(picture source: https://towardsdatascience.com/k-means-a-complete-introduction-1702af9cd8c)</sup>\n",
    "\n",
    "**Important**: You should only use the Python packages that are introduced in this lab: NumPy, Requests, and Pandas. You may use some plotting packages to visualize the datasets if you feel extra fancy. However, you should not use any machine learning packages such as scikit-learn.\n",
    "\n",
    "[RESTful_tutorial]:https://restfulapi.net/\n",
    "[knn]:https://en.wikipedia.org/wiki/K-nearest_neighbors_algorithm\n",
    "[iris]:https://courses.grainger.illinois.edu/ece479/sp2023/secure/labs/lab1/iris_train.csv\n",
    "[iris_label]:https://courses.grainger.illinois.edu/ece479/sp2023/secure/labs/lab1/iris_label.csv\n",
    "[iris_wiki]:https://en.wikipedia.org/wiki/Iris_flower_data_set\n"
   ]
  },
  {
   "cell_type": "markdown",
   "metadata": {},
   "source": [
    "* **Step 1**: Download the Iris dataset from [here][iris] and the labels from [here][iris_label]. Read the csv datasets into arrays. You may use the following code:\n",
    "\n",
    "    ``` Python\n",
    "import pandas as pd\n",
    "data = pd.read_csv('iris.csv', header=0, names=['sepal_length', 'sepal_width', 'petal_length', 'petal_width'])\n",
    "labels = pd.read_csv('iris_labels.csv', header=0, names=['label'])\n",
    "    ```\n",
    "[iris]:https://courses.grainger.illinois.edu/ece479/sp2023/secure/labs/lab1/iris_train.csv\n",
    "[iris_label]:https://courses.grainger.illinois.edu/ece479/sp2023/secure/labs/lab1/iris_train_label.csv"
   ]
  },
  {
   "cell_type": "code",
   "execution_count": null,
   "metadata": {},
   "outputs": [
    {
     "ename": "",
     "evalue": "",
     "output_type": "error",
     "traceback": [
      "\u001b[1;31mFailed to start the Kernel. \n",
      "\u001b[1;31mJupyter server crashed. Unable to connect. \n",
      "\u001b[1;31mError code from Jupyter: 1\n",
      "\u001b[1;31musage: jupyter.py [-h] [--version] [--config-dir] [--data-dir] [--runtime-dir]\n",
      "\u001b[1;31m                  [--paths] [--json] [--debug]\n",
      "\u001b[1;31m                  [subcommand]\n",
      "\u001b[1;31m\n",
      "\u001b[1;31mJupyter: Interactive Computing\n",
      "\u001b[1;31m\n",
      "\u001b[1;31mpositional arguments:\n",
      "\u001b[1;31m  subcommand     the subcommand to launch\n",
      "\u001b[1;31m\n",
      "\u001b[1;31moptions:\n",
      "\u001b[1;31m  -h, --help     show this help message and exit\n",
      "\u001b[1;31m  --version      show the versions of core jupyter packages and exit\n",
      "\u001b[1;31m  --config-dir   show Jupyter config dir\n",
      "\u001b[1;31m  --data-dir     show Jupyter data dir\n",
      "\u001b[1;31m  --runtime-dir  show Jupyter runtime dir\n",
      "\u001b[1;31m  --paths        show all Jupyter paths. Add --json for machine-readable\n",
      "\u001b[1;31m                 format.\n",
      "\u001b[1;31m  --json         output paths as machine-readable json\n",
      "\u001b[1;31m  --debug        output debug information about paths\n",
      "\u001b[1;31m\n",
      "\u001b[1;31mAvailable subcommands:\n",
      "\u001b[1;31m\n",
      "\u001b[1;31mJupyter command `jupyter-notebook` not found. \n",
      "\u001b[1;31mView Jupyter <a href='command:jupyter.viewOutput'>log</a> for further details."
     ]
    }
   ],
   "source": [
    "import pandas as pd\n",
    "data = pd.read_csv('./data/iris.csv', header=0, names=['sepal_length', 'sepal_width', 'petal_length', 'petal_width'])\n",
    "labels = pd.read_csv('./data/iris_label.csv', header=0, names=['label'])"
   ]
  },
  {
   "cell_type": "markdown",
   "metadata": {},
   "source": [
    "  * **Step 2**: Make a `POST` request with the following specifications:\n",
    "\n",
    "    ``` Python\n",
    "url = 'http://courses.grainger.illinois.edu/ece479/sp2023/lab1_request_dataset.php'\n",
    "body = {'request': 'testdata'}\n",
    "    ```\n",
    "    Please read the first three sections of [guide](https://requests.readthedocs.io/en/master/user/quickstart/) to learn how to send HTTP requests and parse responses from the server.\n",
    "    Also, make sure that you make request to `https` (SSL certificated) instead of `http`. If your request is properly made, the server should return a content in comma-separated values (CSV) format. Parse the content into an array, and this array will be used as your testing dataset in the following steps. "
   ]
  },
  {
   "cell_type": "code",
   "execution_count": null,
   "metadata": {},
   "outputs": [
    {
     "ename": "",
     "evalue": "",
     "output_type": "error",
     "traceback": [
      "\u001b[1;31mFailed to start the Kernel. \n",
      "\u001b[1;31mJupyter server crashed. Unable to connect. \n",
      "\u001b[1;31mError code from Jupyter: 1\n",
      "\u001b[1;31musage: jupyter.py [-h] [--version] [--config-dir] [--data-dir] [--runtime-dir]\n",
      "\u001b[1;31m                  [--paths] [--json] [--debug]\n",
      "\u001b[1;31m                  [subcommand]\n",
      "\u001b[1;31m\n",
      "\u001b[1;31mJupyter: Interactive Computing\n",
      "\u001b[1;31m\n",
      "\u001b[1;31mpositional arguments:\n",
      "\u001b[1;31m  subcommand     the subcommand to launch\n",
      "\u001b[1;31m\n",
      "\u001b[1;31moptions:\n",
      "\u001b[1;31m  -h, --help     show this help message and exit\n",
      "\u001b[1;31m  --version      show the versions of core jupyter packages and exit\n",
      "\u001b[1;31m  --config-dir   show Jupyter config dir\n",
      "\u001b[1;31m  --data-dir     show Jupyter data dir\n",
      "\u001b[1;31m  --runtime-dir  show Jupyter runtime dir\n",
      "\u001b[1;31m  --paths        show all Jupyter paths. Add --json for machine-readable\n",
      "\u001b[1;31m                 format.\n",
      "\u001b[1;31m  --json         output paths as machine-readable json\n",
      "\u001b[1;31m  --debug        output debug information about paths\n",
      "\u001b[1;31m\n",
      "\u001b[1;31mAvailable subcommands:\n",
      "\u001b[1;31m\n",
      "\u001b[1;31mJupyter command `jupyter-notebook` not found. \n",
      "\u001b[1;31mView Jupyter <a href='command:jupyter.viewOutput'>log</a> for further details."
     ]
    }
   ],
   "source": [
    "import requests\n",
    "import csv\n",
    "\n",
    "url = 'https://courses.grainger.illinois.edu/ece479/sp2023/lab1_request_dataset.php'\n",
    "body = {'request': 'testdata'}\n",
    "res = requests.post(url, body)\n",
    "\n",
    "parsed_res = np.array(list(csv.reader(res.text.splitlines(), delimiter=',')))\n",
    "parsed_res = pd.DataFrame(parsed_res, columns=parsed_res[0])\n",
    "parsed_res_w_test_id = parsed_res.tail(-1)\n",
    "print(parsed_res_w_test_id)\n",
    "parsed_res = parsed_res_w_test_id.drop('test_id', axis=1)\n",
    "print(parsed_res)"
   ]
  },
  {
   "cell_type": "markdown",
   "metadata": {},
   "source": [
    "* **Step 3**: We will use the Euclidean distance to find the nearest neighbors. Write a function that calculates the distance between two data points. Note: each data point has four features, which means each $X$ is a four-dimensional variable. Recall that the Euclidean distance is defined as $\\sqrt{\\sum_{i=1}^{N=4}(x^{(i)}_1-x^{(i)}_2)^2}$. \n",
    "  \n",
    "  **Hint**: this can be easily done as a one-liner with Numpy, try to avoid using nested loops."
   ]
  },
  {
   "cell_type": "code",
   "execution_count": null,
   "metadata": {},
   "outputs": [
    {
     "ename": "",
     "evalue": "",
     "output_type": "error",
     "traceback": [
      "\u001b[1;31mFailed to start the Kernel. \n",
      "\u001b[1;31mJupyter server crashed. Unable to connect. \n",
      "\u001b[1;31mError code from Jupyter: 1\n",
      "\u001b[1;31musage: jupyter.py [-h] [--version] [--config-dir] [--data-dir] [--runtime-dir]\n",
      "\u001b[1;31m                  [--paths] [--json] [--debug]\n",
      "\u001b[1;31m                  [subcommand]\n",
      "\u001b[1;31m\n",
      "\u001b[1;31mJupyter: Interactive Computing\n",
      "\u001b[1;31m\n",
      "\u001b[1;31mpositional arguments:\n",
      "\u001b[1;31m  subcommand     the subcommand to launch\n",
      "\u001b[1;31m\n",
      "\u001b[1;31moptions:\n",
      "\u001b[1;31m  -h, --help     show this help message and exit\n",
      "\u001b[1;31m  --version      show the versions of core jupyter packages and exit\n",
      "\u001b[1;31m  --config-dir   show Jupyter config dir\n",
      "\u001b[1;31m  --data-dir     show Jupyter data dir\n",
      "\u001b[1;31m  --runtime-dir  show Jupyter runtime dir\n",
      "\u001b[1;31m  --paths        show all Jupyter paths. Add --json for machine-readable\n",
      "\u001b[1;31m                 format.\n",
      "\u001b[1;31m  --json         output paths as machine-readable json\n",
      "\u001b[1;31m  --debug        output debug information about paths\n",
      "\u001b[1;31m\n",
      "\u001b[1;31mAvailable subcommands:\n",
      "\u001b[1;31m\n",
      "\u001b[1;31mJupyter command `jupyter-notebook` not found. \n",
      "\u001b[1;31mView Jupyter <a href='command:jupyter.viewOutput'>log</a> for further details."
     ]
    }
   ],
   "source": [
    "### import the packages and functions here ###\n",
    "### your code goes here ###\n",
    "def distance(point1, point2):\n",
    "    return np.linalg.norm(point1 - point2)"
   ]
  },
  {
   "cell_type": "markdown",
   "metadata": {},
   "source": [
    "* **Step 4**: Implement a function that predicts the classes of the five testing samples using kNN. To perform kNN for a testing sample, first calculate the Euclidean distances between the testing sample and all the samples in the training dataset that are given to you. Then, rank the training samples by their distances to the testing sample, and find the k points that have the least distances to the testing sample. Finally, take the most common labels of the k nearest neighbors and use that to classify the unknown testing data point. \n",
    "    You may experiment with different values of k to see if they give you different answers. We recommend that you try k = 3, 5, or 7."
   ]
  },
  {
   "cell_type": "code",
   "execution_count": null,
   "metadata": {},
   "outputs": [
    {
     "ename": "",
     "evalue": "",
     "output_type": "error",
     "traceback": [
      "\u001b[1;31mFailed to start the Kernel. \n",
      "\u001b[1;31mJupyter server crashed. Unable to connect. \n",
      "\u001b[1;31mError code from Jupyter: 1\n",
      "\u001b[1;31musage: jupyter.py [-h] [--version] [--config-dir] [--data-dir] [--runtime-dir]\n",
      "\u001b[1;31m                  [--paths] [--json] [--debug]\n",
      "\u001b[1;31m                  [subcommand]\n",
      "\u001b[1;31m\n",
      "\u001b[1;31mJupyter: Interactive Computing\n",
      "\u001b[1;31m\n",
      "\u001b[1;31mpositional arguments:\n",
      "\u001b[1;31m  subcommand     the subcommand to launch\n",
      "\u001b[1;31m\n",
      "\u001b[1;31moptions:\n",
      "\u001b[1;31m  -h, --help     show this help message and exit\n",
      "\u001b[1;31m  --version      show the versions of core jupyter packages and exit\n",
      "\u001b[1;31m  --config-dir   show Jupyter config dir\n",
      "\u001b[1;31m  --data-dir     show Jupyter data dir\n",
      "\u001b[1;31m  --runtime-dir  show Jupyter runtime dir\n",
      "\u001b[1;31m  --paths        show all Jupyter paths. Add --json for machine-readable\n",
      "\u001b[1;31m                 format.\n",
      "\u001b[1;31m  --json         output paths as machine-readable json\n",
      "\u001b[1;31m  --debug        output debug information about paths\n",
      "\u001b[1;31m\n",
      "\u001b[1;31mAvailable subcommands:\n",
      "\u001b[1;31m\n",
      "\u001b[1;31mJupyter command `jupyter-notebook` not found. \n",
      "\u001b[1;31mView Jupyter <a href='command:jupyter.viewOutput'>log</a> for further details."
     ]
    }
   ],
   "source": [
    "### import the packages and functions here ###\n",
    "### your code goes here ###\n",
    "\n",
    "# get list of distances to each point from train and test samples\n",
    "# each row is a test sample, and each column is a training sample\n",
    "def getkNN(trainSet, testSet, k):\n",
    "    distanceList = np.zeros((len(testSet), len(trainSet)))\n",
    "    for testIdx, testSample in testSet.iterrows():\n",
    "        for trainIdx, trainSample in trainSet.iterrows():\n",
    "            # print(np.array(trainSample))\n",
    "            distanceList[testIdx - 1][trainIdx - 1] = distance(np.array(testSample).astype(float), np.array(trainSample).astype(float))\n",
    "\n",
    "    tempList = np.zeros((len(testSet), k))\n",
    "    for idx, row in enumerate(distanceList):\n",
    "        # print(row)\n",
    "        tempList[idx] = np.array(row).argsort()[:k]\n",
    "      \n",
    "    labelArr = []\n",
    "    for i in range(len(tempList)):\n",
    "        currLabelList = []\n",
    "        for j in range(len(tempList[i])):\n",
    "            \n",
    "            currLabelList.append(labels.iloc[int(tempList[i][j])][\"label\"])\n",
    "        labelArr.append(max(set(currLabelList), key=currLabelList.count))\n",
    "        \n",
    "    return labelArr\n",
    "    \n",
    "classifications = getkNN(data, parsed_res, 5)\n",
    "print(classifications)"
   ]
  },
  {
   "cell_type": "markdown",
   "metadata": {},
   "source": [
    "* **Step 5**: Make a `POST` request again to the same URL. This time, the `request` field will be `verify`, and you should specify the two additional `test_ids` and the `predictions` fields. They should be in the form of ',' deliminated list, i.e. \\\"1,3,5,6,7\\\" for the `test_ids`. The structure of your request should be like the following:\n",
    "```python\n",
    "    {'request':'verify',\n",
    "     'test_ids':'1,3,6,8,12',\n",
    "     'predictions':'setosa,setosa,versicolour,virginica,setosa'}\n",
    "```\n",
    "The server will return the number of correct predictions on the testing samples drawn from the testing dataset. The accuracy should be 100% in most cases."
   ]
  },
  {
   "cell_type": "code",
   "execution_count": null,
   "metadata": {},
   "outputs": [
    {
     "ename": "",
     "evalue": "",
     "output_type": "error",
     "traceback": [
      "\u001b[1;31mFailed to start the Kernel. \n",
      "\u001b[1;31mJupyter server crashed. Unable to connect. \n",
      "\u001b[1;31mError code from Jupyter: 1\n",
      "\u001b[1;31musage: jupyter.py [-h] [--version] [--config-dir] [--data-dir] [--runtime-dir]\n",
      "\u001b[1;31m                  [--paths] [--json] [--debug]\n",
      "\u001b[1;31m                  [subcommand]\n",
      "\u001b[1;31m\n",
      "\u001b[1;31mJupyter: Interactive Computing\n",
      "\u001b[1;31m\n",
      "\u001b[1;31mpositional arguments:\n",
      "\u001b[1;31m  subcommand     the subcommand to launch\n",
      "\u001b[1;31m\n",
      "\u001b[1;31moptions:\n",
      "\u001b[1;31m  -h, --help     show this help message and exit\n",
      "\u001b[1;31m  --version      show the versions of core jupyter packages and exit\n",
      "\u001b[1;31m  --config-dir   show Jupyter config dir\n",
      "\u001b[1;31m  --data-dir     show Jupyter data dir\n",
      "\u001b[1;31m  --runtime-dir  show Jupyter runtime dir\n",
      "\u001b[1;31m  --paths        show all Jupyter paths. Add --json for machine-readable\n",
      "\u001b[1;31m                 format.\n",
      "\u001b[1;31m  --json         output paths as machine-readable json\n",
      "\u001b[1;31m  --debug        output debug information about paths\n",
      "\u001b[1;31m\n",
      "\u001b[1;31mAvailable subcommands:\n",
      "\u001b[1;31m\n",
      "\u001b[1;31mJupyter command `jupyter-notebook` not found. \n",
      "\u001b[1;31mView Jupyter <a href='command:jupyter.viewOutput'>log</a> for further details."
     ]
    }
   ],
   "source": [
    "res = requests.post(url, {'request': 'verify', 'test_ids': \",\".join(list(parsed_res_w_test_id[\"test_id\"])), 'predictions': \",\".join(classifications)})\n",
    "print(f\"Accuracy is {float(res.text) * 100 / float(len(classifications))}%\")"
   ]
  },
  {
   "cell_type": "markdown",
   "metadata": {},
   "source": [
    "* **Step 6**: Implement a function that finds the k centroids of the iris dataset using K-means. To perform K-means for a dataset, first, initialize random k centroids. Then for each data point, find the nearest euclidean distance to centroids and assign the point to that cluster. In addition, for each cluster, compute the new centroid equals the mean of all points assigned to that cluster. You should repeat the distance calculation, and centroids update until convergence or until the end of a fixed number of iterations. We recommend that you try k = 2, 3, or 4."
   ]
  },
  {
   "cell_type": "code",
   "execution_count": null,
   "metadata": {},
   "outputs": [
    {
     "ename": "",
     "evalue": "",
     "output_type": "error",
     "traceback": [
      "\u001b[1;31mFailed to start the Kernel. \n",
      "\u001b[1;31mJupyter server crashed. Unable to connect. \n",
      "\u001b[1;31mError code from Jupyter: 1\n",
      "\u001b[1;31musage: jupyter.py [-h] [--version] [--config-dir] [--data-dir] [--runtime-dir]\n",
      "\u001b[1;31m                  [--paths] [--json] [--debug]\n",
      "\u001b[1;31m                  [subcommand]\n",
      "\u001b[1;31m\n",
      "\u001b[1;31mJupyter: Interactive Computing\n",
      "\u001b[1;31m\n",
      "\u001b[1;31mpositional arguments:\n",
      "\u001b[1;31m  subcommand     the subcommand to launch\n",
      "\u001b[1;31m\n",
      "\u001b[1;31moptions:\n",
      "\u001b[1;31m  -h, --help     show this help message and exit\n",
      "\u001b[1;31m  --version      show the versions of core jupyter packages and exit\n",
      "\u001b[1;31m  --config-dir   show Jupyter config dir\n",
      "\u001b[1;31m  --data-dir     show Jupyter data dir\n",
      "\u001b[1;31m  --runtime-dir  show Jupyter runtime dir\n",
      "\u001b[1;31m  --paths        show all Jupyter paths. Add --json for machine-readable\n",
      "\u001b[1;31m                 format.\n",
      "\u001b[1;31m  --json         output paths as machine-readable json\n",
      "\u001b[1;31m  --debug        output debug information about paths\n",
      "\u001b[1;31m\n",
      "\u001b[1;31mAvailable subcommands:\n",
      "\u001b[1;31m\n",
      "\u001b[1;31mJupyter command `jupyter-notebook` not found. \n",
      "\u001b[1;31mView Jupyter <a href='command:jupyter.viewOutput'>log</a> for further details."
     ]
    }
   ],
   "source": [
    "### import the packages and functions here ###\n",
    "### your code goes here ###"
   ]
  },
  {
   "cell_type": "markdown",
   "metadata": {},
   "source": [
    "## Report Requirements: (10 pts)\n",
    "You have to do a live demo for this lab during your designated lab session. In addition, you will need to turn in a report and the code. **We highly recommend that you directly use the provided Jupyter Notebook and turn it in as a combination of the report and the code.**\n",
    "\n",
    "### Part 1: (2 pts)\n",
    "* Show the code and the results of each step. Discuss your approaches for correct generations of all NumPy arrays **A** to **F**, with each worth 0.33 points.\n",
    "* Since the code should be very short, you can either type it directly in the report or take screenshots of both the code and the resulting arrays and paste the screenshot into the report.\n",
    "  \n",
    "### Part 2: (3 pts)\n",
    "* Show the results of each step. Discuss your appoarches. There is no need to include the code in the report. \n",
    "* For step 1, show the type and the shape of the array, print the original image. For step 2, show the cropped image. Nothing needs to be shown for step 3. The whole step 1 to 3 worth 1 point. \n",
    "* For step 4, show the resulting images of the three filtering processes. Step 4 worths 1 point.\n",
    "* For step 5, show the four images from the two different approachs. Step 5 worths 1 point.\n",
    "  \n",
    "### Part 3: (5 pts)\n",
    "* Show the results of each step. Discuss your appoarches. There is no need to include the code in the report. \n",
    "* For step 1, print the data you read from both csv files. For step 2, acquire at least 3 datasets from the server and print the response. You may take screenshots to show the prints. Step 1 and 2 worth 1 point.\n",
    "* For step 3 and 4, briefly discuss your code, including what k values that you have tried. Show a screenshot of the two functions if they can be contained in one page. The code shouldn't be very long. Step 3 and 4 worth 2 points.\n",
    "* For step 5, print the responses from the server. Step 5 worths 1 point.\n",
    "* For step 6, print the centroid values of k=3. Step 6 worths 1 point.\n",
    "\n",
    "\n",
    "### Notes: \n",
    "* Besides the above requirements, your report should also include the following details: \n",
    "  * Your full name and your NetID.\n",
    "  * The difficulties/bugs you encountered and how you solved them\n",
    "  * What you learned from this lab\n",
    "* Your report should cover all the required information, but please keep your report clean and concise.\n",
    "* Please add references to your report if you referred to any resources when you work on your lab.\n",
    "\n"
   ]
  },
  {
   "cell_type": "code",
   "execution_count": null,
   "metadata": {},
   "outputs": [
    {
     "ename": "",
     "evalue": "",
     "output_type": "error",
     "traceback": [
      "\u001b[1;31mFailed to start the Kernel. \n",
      "\u001b[1;31mJupyter server crashed. Unable to connect. \n",
      "\u001b[1;31mError code from Jupyter: 1\n",
      "\u001b[1;31musage: jupyter.py [-h] [--version] [--config-dir] [--data-dir] [--runtime-dir]\n",
      "\u001b[1;31m                  [--paths] [--json] [--debug]\n",
      "\u001b[1;31m                  [subcommand]\n",
      "\u001b[1;31m\n",
      "\u001b[1;31mJupyter: Interactive Computing\n",
      "\u001b[1;31m\n",
      "\u001b[1;31mpositional arguments:\n",
      "\u001b[1;31m  subcommand     the subcommand to launch\n",
      "\u001b[1;31m\n",
      "\u001b[1;31moptions:\n",
      "\u001b[1;31m  -h, --help     show this help message and exit\n",
      "\u001b[1;31m  --version      show the versions of core jupyter packages and exit\n",
      "\u001b[1;31m  --config-dir   show Jupyter config dir\n",
      "\u001b[1;31m  --data-dir     show Jupyter data dir\n",
      "\u001b[1;31m  --runtime-dir  show Jupyter runtime dir\n",
      "\u001b[1;31m  --paths        show all Jupyter paths. Add --json for machine-readable\n",
      "\u001b[1;31m                 format.\n",
      "\u001b[1;31m  --json         output paths as machine-readable json\n",
      "\u001b[1;31m  --debug        output debug information about paths\n",
      "\u001b[1;31m\n",
      "\u001b[1;31mAvailable subcommands:\n",
      "\u001b[1;31m\n",
      "\u001b[1;31mJupyter command `jupyter-notebook` not found. \n",
      "\u001b[1;31mView Jupyter <a href='command:jupyter.viewOutput'>log</a> for further details."
     ]
    }
   ],
   "source": []
  }
 ],
 "metadata": {
  "kernelspec": {
   "display_name": "Python 3 (ipykernel)",
   "language": "python",
   "name": "python3"
  },
  "language_info": {
   "codemirror_mode": {
    "name": "ipython",
    "version": 3
   },
   "file_extension": ".py",
   "mimetype": "text/x-python",
   "name": "python",
   "nbconvert_exporter": "python",
   "pygments_lexer": "ipython3",
   "version": "3.11.1"
  },
  "vscode": {
   "interpreter": {
    "hash": "b0fa6594d8f4cbf19f97940f81e996739fb7646882a419484c72d19e05852a7e"
   }
  }
 },
 "nbformat": 4,
 "nbformat_minor": 4
}
