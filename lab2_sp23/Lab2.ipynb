{
 "cells": [
  {
   "cell_type": "markdown",
   "id": "93812d4f",
   "metadata": {},
   "source": [
    "ECE479ICC LAB 2: Raspberry Pi, TF-Keras, and Face Detection\n",
    "====================================\n"
   ]
  },
  {
   "cell_type": "markdown",
   "id": "6ac27d92",
   "metadata": {},
   "source": [
    "## PART I: Raspberry Pi Setup and Basics\n",
    "\n",
    "### Raspberry Pi Setup\n",
    "\n",
    "From this lab on, you will apply what you have learned in the lectures to train and deploy a neural network on an edge device, Raspberry Pi 4.\n",
    "\n",
    "Raspberry Pi 4 is an inexpensive but powerful IoT device. You may review this [report][raspberry_pi_history] to learn more about its story. To start, you need to install the proper Raspbian OS. You can use the official [imager] to prepare your OS. If you are at home without a monitor, you can set up the OS with the headless option. The official Raspberry Pi documents with the headless option could be found [here][rpi_headless]. If you would like to use the SSH (Secure Shell) to connect to your Raspberry Pi, you can refer to this official [document][rpi_ssh].\n",
    "\n",
    "Once your RPi can boot into the OS normally, you can enable the VNC and access the desktop environment using your laptop/desktop. You can follow the \"Enabling and Connecting over VNC\" section of the [tutorial][headless_rpi_start] for this.\n",
    "\n",
    "Now that you have the desktop environment, follow this [guide][picam_start] to set up your pi-camera. You should be able to take pictures and videos with your camera.\n",
    "\n",
    "[raspberry_pi_history]:https://www.techrepublic.com/article/inside-the-raspberry-pi-the-story-of-the-35-computer-that-changed-the-world/\n",
    "[imager]:https://www.raspberrypi.com/software/\n",
    "[headless_rpi_start]: https://www.tomshardware.com/reviews/raspberry-pi-headless-setup-how-to,6028.html\n",
    "[rpi_headless]:https://www.raspberrypi.com/documentation/computers/configuration.html#setting-up-a-headless-raspberry-pi\n",
    "[rpi_ssh]:https://www.raspberrypi.com/documentation/computers/remote-access.html\n",
    "[picam_start]:https://picamera.readthedocs.io/en/latest/\n",
    "[headless_setup]:https://www.raspberrypi.org/documentation/remote-access/ssh/\n",
    "\n",
    "In this part of the lab, you need to complete the following tasks: \n",
    "\n",
    "  * Install Raspbian OS in your Raspberry Pi, set up your network connection, and take a selfie on the pi-camera.\n",
    "  * **Print** the CPU specs with `cat /proc/cpuinfo`\n",
    "  * **Print** network interface configuration with `ifconfig`\n",
    "  \n",
    "  \n",
    "### TensorFlow Setup on Raspberry Pi \n",
    "\n",
    "Once you can log into the Raspberry Pi desktop, please follow the [this_guide][tf_lite_install] and [this_guide][coral_setup] to install **TensorFlow Lite** on your Raspberry Pi and work with the accelerator.\n",
    "\n",
    "After the installation. Please verify that the installation is properly done. By running\n",
    "```Python\n",
    "import tflite_runtime.interpreter as tflite\n",
    "```\n",
    "in a python environment. If there is no error, the installation is done.\n",
    "\n",
    "[tf_lite_install]:https://www.tensorflow.org/lite/guide/python\n",
    "[coral_setup]:https://coral.ai/docs/accelerator/get-started/\n",
    "\n",
    "### TensorFlow Setup on Your PC\n",
    "\n",
    "Please follow the following commands in your conda environment to install **TensorFlow 2.10** on your own PC.\n",
    "```\n",
    "conda install -c conda-forge tensorflow=2.10\n",
    "```\n",
    "If you have a Apple Silicon Mac, please follow this [guide][tf_install]. It is a little more complicated.\n",
    "\n",
    "\n",
    "After the installation. Please verify that the installation is properly done. By running\n",
    "```Python\n",
    "import tensorflow as tf\n",
    "tf.__version__\n",
    "```\n",
    "in a python environment, notice the version number for your Tensorflow.\n",
    "\n",
    "[tf_install]:https://towardsdatascience.com/installing-tensorflow-on-the-m1-mac-410bb36b776"
   ]
  },
  {
   "cell_type": "code",
   "execution_count": 2,
   "id": "2a2b93df",
   "metadata": {},
   "outputs": [
    {
     "data": {
      "text/plain": [
       "'2.10.0'"
      ]
     },
     "execution_count": 2,
     "metadata": {},
     "output_type": "execute_result"
    }
   ],
   "source": [
    "import tensorflow as tf\n",
    "tf.__version__"
   ]
  },
  {
   "cell_type": "markdown",
   "id": "9bbce25d",
   "metadata": {},
   "source": [
    "## PART II: Building and Training with TF-Keras\n",
    "\n",
    "In part II, you will build a Convolutional Neural Network (CNN) based image classifier. In our lecture, we have introduced CNN, a type of Deep Neural Network (DNN) that features convolutional layers. This [document][cnn_definition] by Stanford CS231n is also a good resource to learn more about CNN. You will build and train a simple CNN with TensorFlow on your own computers.\n",
    "\n",
    "[cnn_definition]:http://cs231n.github.io/convolutional-networks/\n",
    "\n",
    "There were two ways to construct and train a neural network model in TF1.x: Keras and low-level APIs. As Tensorflow evolves to 2.x, it leans more toward Keras, a higher-level framework than the previous version's low-level APIs. Keras APIs provide straightforward construction and training of neural networks, which hide away some tedious details of the network. \n",
    "\n",
    "Some may argue that low-level APIs provide more precise control over some aspects of the network. While users can still find a way to tune the details by looking deeper into the APIs, the framework encourages them to focus on the big picture and develop better and more robust network models rather than fixating on trivialities. As a beginner, it is helpful for us to start with Keras and establish a basic intuition on how to build and train a simple network.\n",
    "\n",
    "In this part of the lab, you need to follow this [tutorial][fashion_mnist] to build a neural network to classify the Fashion MNIST dataset.\n",
    "\n",
    "[fashion_mnist]:https://www.tensorflow.org/tutorials/keras/classification"
   ]
  },
  {
   "cell_type": "markdown",
   "id": "09fea53b",
   "metadata": {},
   "source": [
    "\n",
    "\n",
    "### FashionNet\n",
    "\n",
    "You will construct a neural network by yourselves. Let's call it the FashionNet. Here is an overview of the proposed Convolutional Neurual Network (CNN):\n",
    "\n",
    "![cnn_img](figures/fashionnet.png)\n",
    "\n",
    "This CNN contains two convolutional layers, two max pooling layers, and three fully connected layers (dense layers). The configuration details of each layer are shown in the following table (in sequential order):\n",
    "\n",
    "| Layers          | Configuration                        | Activation | Output Dimensions |\n",
    "|---------------:|--------------------------------------:|-------------------:|----------------------------------------: |\n",
    "| convolution     | input size = (28, 28, 1), kernel size = (5, 5), stride = 1, padding = 'same'   |       ReLU          |            (28, 28, 4)                     |\n",
    "| max pooling     | pool_size = (2, 2), stride = 2                           |       -             |            (14, 14, 4)                     |\n",
    "| convolution     | kernel size = (3, 3), stride = 1, padding = 'valid'|       ReLU          |            (12, 12, 8)                     |\n",
    "| max pooling     | pool_size = (2, 2), stride = 2                           |       -             |            (6, 6, 8)                       |\n",
    "| dense |       |       ReLU          |            (128)                     |\n",
    "| dense |        |       ReLU          |            (64)                      |\n",
    "| dense |         |       Softmax       |            (10)                      |\n",
    "\n",
    "\n",
    "### Dataset\n",
    "In this lab, you will use the Fashion MNIST dataset. You can load the dataset in the following way, which is also shown in the tutorial:\n",
    "```Python\n",
    "import tensorflow as tf\n",
    "from tensorflow import keras\n",
    "import numpy as np\n",
    "\n",
    "fashion_mnist = keras.datasets.fashion_mnist\n",
    "(train_images, train_labels), (test_images, test_labels) = fashion_mnist.load_data()\n",
    "```\n",
    "As discussed in the lecture, you should only use `train_images` and `train_labels` to train your model. You may also want to validate your model with a training/validation split. We will discuss the details in the next section.\n",
    "\n",
    "### Build, Train, and Evaluate\n",
    "Generally, there are three stages in the process of developing a neural network: build, train, and evaluate. In Keras, there are corresponding functions for each stage:\n",
    "\n",
    "1. **Build** First, you define the model architecture. In this lab, you can use a simple `keras.Sequential` function to define a model, as shown in this [example][sequential]. There are other ways to define a model, but we will not discuss those in this lab. After you have defined your model, you need to tell Keras what you want to do with it by compiling it. In the `model.compile` function, you specify the optimizer, loss function, metrics, and other configurations to prepare for training.\n",
    "2. **Train** You use `model.fit` function to train your model. In this function, you can specify the training parameters, including batch size, epochs, etc. You should specify your validation split in this function too. Please refer to the document and see how to do that.\n",
    "3. **Evaluate** After you have trained your model, you need to test the final accuracy using the testing data. The `model.evaluate` function gives you the percentage of the correct results. \n",
    "\n",
    "You can find the document for the above functions [here][fit_api].\n",
    "You may also find that in FashionNet, you use 2-D convolution in the first couple of layers. You may find [this document][layer_api] helpful since the `layers.Conv2D` and `layers.MaxPool2D` functions are not covered in the tutorial.\n",
    "\n",
    "The training of this CNN should not take a very long time on a laptop/desktop CPU. The final testing accuracy should be higher than 85%, and the training accuracy should be higher than 90%.\n",
    "\n",
    "\n",
    "### Plot the Training Progress\n",
    "The `model.fit` function outputs a history of the training metrics (accuracy and loss), including validation metrics. This infomation can be very helpful for diagnosing the model.\n",
    "\n",
    "**Use `matplotlib` to graph the model accuracy and loss on the training and validation dataset, and include them in your report.** The graph should look something like the following, but yours can be different if you have different configurations of the training process.\n",
    "\n",
    "![train_img](figures/train.png)\n",
    "\n",
    "### Saving Your Trained Model\n",
    "Finally, you will need to save your trained models to model files. Saving a trained model allows you to deploy it to other devices or restore previous training progress at a later time. \n",
    "\n",
    "For the purpose of this lab, we ask you to save it using **the TensorFlow SavedModel format**, which will contain the information of the model as well as the weights.\n",
    "\n",
    "```Python\n",
    "# Calling `save('my_model')` creates a SavedModel folder `my_model`.\n",
    "your_trained_model.save(\"my_model\")\n",
    "```\n",
    "\n",
    "Please read [this document][save_model] to learn more about how the model save works in tensorflow.\n",
    "\n",
    "[build_tag]:https://www.tensorflow.org/tutorials/keras/classification#build_the_model\n",
    "[train_tag]:https://www.tensorflow.org/tutorials/keras/classification#train_the_model\n",
    "[eval_tag]:https://www.tensorflow.org/tutorials/keras/classification#evaluate_accuracy\n",
    "[sequential]:https://www.tensorflow.org/guide/keras/sequential_model#when_to_use_a_sequential_model\n",
    "\n",
    "\n",
    "[fit_api]:https://keras.io/api/models/model_training_apis/\n",
    "[layer_api]:https://www.tensorflow.org/api_docs/python/tf/keras/layers\n",
    "[save_model]:https://www.tensorflow.org/guide/keras/save_and_serialize#what_the_savedmodel_contains"
   ]
  },
  {
   "cell_type": "code",
   "execution_count": 3,
   "id": "af6b96fc",
   "metadata": {},
   "outputs": [
    {
     "name": "stdout",
     "output_type": "stream",
     "text": [
      "2.10.0\n",
      "Num GPUs Available:  1\n"
     ]
    }
   ],
   "source": [
    "# TensorFlow and tf.keras\n",
    "import os\n",
    "import tensorflow as tf\n",
    "from tensorflow import keras\n",
    "\n",
    "# Helper libraries\n",
    "import numpy as np\n",
    "import matplotlib.pyplot as plt\n",
    "\n",
    "print(tf.__version__)\n",
    "print(\"Num GPUs Available: \", len(tf.config.list_physical_devices('GPU')))"
   ]
  },
  {
   "cell_type": "code",
   "execution_count": 4,
   "id": "5b973657",
   "metadata": {},
   "outputs": [
    {
     "name": "stdout",
     "output_type": "stream",
     "text": [
      "(50000, 28, 28) (10000, 28, 28)\n",
      "(50000, 28, 28, 1)\n"
     ]
    }
   ],
   "source": [
    "# 1. Load Fashion MNIST Dataset and Preprocess Data\n",
    "fashion_mnist = keras.datasets.fashion_mnist\n",
    "(train_val_images, train_val_labels), (test_images, test_labels) = fashion_mnist.load_data()\n",
    "split = 50000\n",
    "train_images, train_labels = train_val_images[:split], train_val_labels[:split]\n",
    "val_images, val_labels = train_val_images[split:], train_val_labels[split:]\n",
    "print(train_images.shape, val_images.shape)\n",
    "\n",
    "# data preprocessing to normalize data\n",
    "train_images = train_images / 255.0\n",
    "val_images = val_images / 255.0\n",
    "test_images = test_images / 255.0\n",
    "\n",
    "# reshape data\n",
    "train_images = train_images[..., np.newaxis]\n",
    "val_images = val_images[..., np.newaxis]\n",
    "test_images = test_images[..., np.newaxis]\n",
    "\n",
    "print(train_images.shape)"
   ]
  },
  {
   "cell_type": "code",
   "execution_count": 26,
   "id": "4a260b6d",
   "metadata": {},
   "outputs": [
    {
     "name": "stdout",
     "output_type": "stream",
     "text": [
      "Epoch 1/10\n"
     ]
    },
    {
     "name": "stderr",
     "output_type": "stream",
     "text": [
      "/opt/homebrew/Caskroom/miniconda/base/envs/ece479_tf/lib/python3.10/site-packages/keras/backend.py:5582: UserWarning: \"`sparse_categorical_crossentropy` received `from_logits=True`, but the `output` argument was produced by a Softmax activation and thus does not represent logits. Was this intended?\n",
      "  output, from_logits = _get_logits(\n",
      "2023-03-26 18:04:56.353029: I tensorflow/core/grappler/optimizers/custom_graph_optimizer_registry.cc:114] Plugin optimizer for device_type GPU is enabled.\n"
     ]
    },
    {
     "name": "stdout",
     "output_type": "stream",
     "text": [
      "1563/1563 [==============================] - ETA: 0s - loss: 0.5300 - accuracy: 0.8098"
     ]
    },
    {
     "name": "stderr",
     "output_type": "stream",
     "text": [
      "2023-03-26 18:05:10.587023: I tensorflow/core/grappler/optimizers/custom_graph_optimizer_registry.cc:114] Plugin optimizer for device_type GPU is enabled.\n"
     ]
    },
    {
     "name": "stdout",
     "output_type": "stream",
     "text": [
      "1563/1563 [==============================] - 16s 10ms/step - loss: 0.5300 - accuracy: 0.8098 - val_loss: 0.4291 - val_accuracy: 0.8478\n",
      "Epoch 2/10\n",
      "1563/1563 [==============================] - 15s 10ms/step - loss: 0.3720 - accuracy: 0.8649 - val_loss: 0.3613 - val_accuracy: 0.8678\n",
      "Epoch 3/10\n",
      "1563/1563 [==============================] - 15s 10ms/step - loss: 0.3301 - accuracy: 0.8791 - val_loss: 0.3525 - val_accuracy: 0.8699\n",
      "Epoch 4/10\n",
      "1563/1563 [==============================] - 16s 10ms/step - loss: 0.3018 - accuracy: 0.8882 - val_loss: 0.3179 - val_accuracy: 0.8853\n",
      "Epoch 5/10\n",
      "1563/1563 [==============================] - 15s 10ms/step - loss: 0.2826 - accuracy: 0.8955 - val_loss: 0.2944 - val_accuracy: 0.8931\n",
      "Epoch 6/10\n",
      "1563/1563 [==============================] - 14s 9ms/step - loss: 0.2640 - accuracy: 0.9031 - val_loss: 0.2968 - val_accuracy: 0.8911\n",
      "Epoch 7/10\n",
      "1563/1563 [==============================] - 15s 10ms/step - loss: 0.2499 - accuracy: 0.9060 - val_loss: 0.2880 - val_accuracy: 0.8954\n",
      "Epoch 8/10\n",
      "1563/1563 [==============================] - 15s 9ms/step - loss: 0.2366 - accuracy: 0.9113 - val_loss: 0.2955 - val_accuracy: 0.8884\n",
      "Epoch 9/10\n",
      "1563/1563 [==============================] - 14s 9ms/step - loss: 0.2254 - accuracy: 0.9156 - val_loss: 0.2903 - val_accuracy: 0.8968\n",
      "Epoch 10/10\n",
      "1563/1563 [==============================] - 14s 9ms/step - loss: 0.2132 - accuracy: 0.9190 - val_loss: 0.2975 - val_accuracy: 0.8949\n",
      "313/313 [==============================] - 2s 5ms/step - loss: 0.3157 - accuracy: 0.8877\n",
      "\n",
      "Test accuracy: 0.8877000212669373\n"
     ]
    }
   ],
   "source": [
    "# 2. Build, Train, and Evaluate\n",
    "model = keras.Sequential([\n",
    "    keras.layers.Conv2D(4, input_shape=(28,28,1), kernel_size=(5,5), strides=1, padding='same', activation='relu'),\n",
    "    keras.layers.MaxPool2D(pool_size=(2,2), strides=2),\n",
    "    keras.layers.Conv2D(8, input_shape=(14,14,4), kernel_size=(3,3), strides=1, padding='valid', activation='relu'),\n",
    "    keras.layers.MaxPool2D(pool_size=(2,2), strides=2),\n",
    "    keras.layers.Flatten(),\n",
    "    keras.layers.Dense(128, activation='relu'),\n",
    "    keras.layers.Dense(64, activation='relu'),\n",
    "    keras.layers.Dense(10, activation='softmax')\n",
    "])\n",
    "\n",
    "model.compile(optimizer='adam', loss=keras.losses.SparseCategoricalCrossentropy(from_logits=True), metrics=['accuracy'])\n",
    "\n",
    "# 3. Saving the model\n",
    "callbacks = [\n",
    "  keras.callbacks.ModelCheckpoint(\n",
    "      filepath=\"my_model.keras\",\n",
    "      monitor=\"val_loss\"\n",
    "  )\n",
    "]\n",
    "\n",
    "history = model.fit(train_images, train_labels, validation_data=(val_images, val_labels), epochs=10)\n",
    "test_loss, test_acc = model.evaluate(test_images,  test_labels)\n",
    "\n",
    "print('\\nTest accuracy:', test_acc)"
   ]
  },
  {
   "cell_type": "code",
   "execution_count": 20,
   "id": "aa2cb26c",
   "metadata": {},
   "outputs": [
    {
     "name": "stderr",
     "output_type": "stream",
     "text": [
      "WARNING:absl:Found untraced functions such as _jit_compiled_convolution_op, _jit_compiled_convolution_op while saving (showing 2 of 2). These functions will not be directly callable after loading.\n"
     ]
    },
    {
     "name": "stdout",
     "output_type": "stream",
     "text": [
      "INFO:tensorflow:Assets written to: my_model/assets\n"
     ]
    },
    {
     "name": "stderr",
     "output_type": "stream",
     "text": [
      "INFO:tensorflow:Assets written to: my_model/assets\n"
     ]
    }
   ],
   "source": [
    "# 3. Save the model\n",
    "model.save('my_model')"
   ]
  },
  {
   "cell_type": "code",
   "execution_count": 21,
   "id": "b3373c9f",
   "metadata": {},
   "outputs": [
    {
     "data": {
      "image/png": "[encoded data removed]",
      "text/plain": [
       "<Figure size 640x480 with 1 Axes>"
      ]
     },
     "metadata": {},
     "output_type": "display_data"
    },
    {
     "data": {
      "image/png": "[encoded data removed]",
      "text/plain": [
       "<Figure size 640x480 with 1 Axes>"
      ]
     },
     "metadata": {},
     "output_type": "display_data"
    }
   ],
   "source": [
    "accuracy = history.history[\"accuracy\"]\n",
    "val_accuracy = history.history[\"val_accuracy\"]\n",
    "loss = history.history[\"loss\"]\n",
    "val_loss = history.history[\"val_loss\"]\n",
    "epochs = range(1, len(accuracy)+1)\n",
    "plt.plot(epochs, accuracy, \"bo\", label=\"Training Accuracy\")\n",
    "plt.plot(epochs, val_accuracy, \"b\", label=\"Validation Accuracy\")\n",
    "plt.title(\"Training and Validation Accuracy\")\n",
    "plt.legend()\n",
    "plt.figure()\n",
    "plt.plot(epochs, loss, \"bo\", label=\"Training Loss\")\n",
    "plt.plot(epochs, val_loss, \"b\", label=\"Validation Loss\")\n",
    "plt.title(\"Training and Validation Loss\")\n",
    "plt.legend()\n",
    "plt.show()"
   ]
  },
  {
   "cell_type": "markdown",
   "id": "728f912a",
   "metadata": {
    "scrolled": false
   },
   "source": [
    "### Convert Your Trained Model to TFLite model\n",
    "\n",
    "Before you start the migration process of your trained model onto our edge devices, Raspberry Pi 4, please make sure you have followed the previous steps carefully and have a properly trained TF model with reasonable accuracy on the validation dataset.\n",
    "\n",
    "Now, locate the directory where your trained model files are saved and create a TFLite converter ready for the next step. \n",
    "\n",
    "Please refer to [this document][tf_lite_converter] for more information on the TFLite model.\n",
    "\n",
    "[tf_lite_converter]:https://www.tensorflow.org/lite/api_docs/python/tf/lite/TFLiteConverter#from_saved_model"
   ]
  },
  {
   "cell_type": "code",
   "execution_count": 22,
   "id": "6d595b18",
   "metadata": {},
   "outputs": [
    {
     "name": "stderr",
     "output_type": "stream",
     "text": [
      "2023-03-26 17:48:42.455064: W tensorflow/compiler/mlir/lite/python/tf_tfl_flatbuffer_helpers.cc:362] Ignored output_format.\n",
      "2023-03-26 17:48:42.455083: W tensorflow/compiler/mlir/lite/python/tf_tfl_flatbuffer_helpers.cc:365] Ignored drop_control_dependency.\n",
      "2023-03-26 17:48:42.455195: I tensorflow/cc/saved_model/reader.cc:45] Reading SavedModel from: my_model\n",
      "2023-03-26 17:48:42.456255: I tensorflow/cc/saved_model/reader.cc:89] Reading meta graph with tags { serve }\n",
      "2023-03-26 17:48:42.456261: I tensorflow/cc/saved_model/reader.cc:130] Reading SavedModel debug info (if present) from: my_model\n",
      "2023-03-26 17:48:42.459161: I tensorflow/cc/saved_model/loader.cc:229] Restoring SavedModel bundle.\n",
      "2023-03-26 17:48:42.495044: I tensorflow/cc/saved_model/loader.cc:213] Running initialization op on SavedModel bundle at path: my_model\n",
      "2023-03-26 17:48:42.503260: I tensorflow/cc/saved_model/loader.cc:305] SavedModel load for tags { serve }; Status: success: OK. Took 48066 microseconds.\n"
     ]
    }
   ],
   "source": [
    "# TODO: Convert to TFLite\n",
    "converter = tf.lite.TFLiteConverter.from_saved_model('my_model') # path to the SavedModel directory\n",
    "tflite_model = converter.convert()\n",
    "\n",
    "# Save the model.\n",
    "with open('my_model.tflite', 'wb') as f:\n",
    "  f.write(tflite_model)"
   ]
  },
  {
   "cell_type": "markdown",
   "id": "8171c68b",
   "metadata": {},
   "source": [
    "### Optimize your TFLite model with post-trainning quantization\n",
    "With the converter, we can directly transform our model to TFLite model; however, edge and IoT devices are usually low-powered and relatively lack computational power compared to PC. Therefore, to further enhance the performance, you can apply the post-training quantization technique before deploying the model onto the Raspberry Pi.\n",
    "\n",
    "Notice that, although the post-training quantization is similar to the quantization and retrain technique that we will introduce in Lecture 12, since the model will not be retrained after the quantization, the impact on the accuracy of the model is usually larger.\n",
    "\n",
    "In this part, you will need to apply two quantization methods, namely, **Dynamic range quantization** and **Full integer quantization**, listed in [this document][post-trainning quantization] to your pre-trained models and compare the accuracy and performance.\n",
    "\n",
    "1) For dynamic range quantization, quantization parameters are automatically detected and generated by TensorFlow. Please write a piece of code to convert your original trained model into a TFLite model using dynamic range quantization.  \n",
    "\n",
    "2) For integer quantization, TensorFlow needs to sample the dataset you used for training the models to estimate the **MIN** and **MAX** values. This process can be described as \"representative data generation\". An example representative data generator is\n",
    "```Python\n",
    "def representative_data_gen():\n",
    "  for input_value in tf.data.Dataset.from_tensor_slices(trainning_dataset).batch(1).take(100):\n",
    "    yield [input_value]\n",
    "```\n",
    "\n",
    "You will need to define your own representative data generator function and properly select the following parameters as below:\n",
    "```Python\n",
    "# dataset used for training\n",
    "trainning_set\n",
    "# batch number x\n",
    ".batch(x)\n",
    "# input y\n",
    ".take(y)\n",
    "```\n",
    "\n",
    "Please refer to this [official document][from_tensor_slices] for explanations on the **from_tensor_slices()** API. On the same page, you will also learn about how the TensorFlow ***tf.Data.Dataset*** format works.\n",
    "\n",
    "[from_tensor_slices]:https://www.tensorflow.org/api_docs/python/tf/data/Dataset#from_tensor_slices\n",
    "[post-trainning quantization]:https://www.tensorflow.org/lite/performance/post_training_quantization"
   ]
  },
  {
   "cell_type": "code",
   "execution_count": 23,
   "id": "21fb5d96",
   "metadata": {},
   "outputs": [
    {
     "name": "stderr",
     "output_type": "stream",
     "text": [
      "2023-03-26 17:48:43.236920: W tensorflow/compiler/mlir/lite/python/tf_tfl_flatbuffer_helpers.cc:362] Ignored output_format.\n",
      "2023-03-26 17:48:43.236934: W tensorflow/compiler/mlir/lite/python/tf_tfl_flatbuffer_helpers.cc:365] Ignored drop_control_dependency.\n",
      "2023-03-26 17:48:43.237019: I tensorflow/cc/saved_model/reader.cc:45] Reading SavedModel from: my_model\n",
      "2023-03-26 17:48:43.238044: I tensorflow/cc/saved_model/reader.cc:89] Reading meta graph with tags { serve }\n",
      "2023-03-26 17:48:43.238049: I tensorflow/cc/saved_model/reader.cc:130] Reading SavedModel debug info (if present) from: my_model\n",
      "2023-03-26 17:48:43.240825: I tensorflow/cc/saved_model/loader.cc:229] Restoring SavedModel bundle.\n",
      "2023-03-26 17:48:43.276832: I tensorflow/cc/saved_model/loader.cc:213] Running initialization op on SavedModel bundle at path: my_model\n",
      "2023-03-26 17:48:43.285205: I tensorflow/cc/saved_model/loader.cc:305] SavedModel load for tags { serve }; Status: success: OK. Took 48185 microseconds.\n"
     ]
    }
   ],
   "source": [
    "# 1. Dynamic range quantization\n",
    "converter = tf.lite.TFLiteConverter.from_saved_model('my_model')\n",
    "converter.optimizations = [tf.lite.Optimize.DEFAULT]\n",
    "tflite_quant_model = converter.convert()\n",
    "\n",
    "with open('my_model_dynamic_quant.tflite', 'wb') as f:\n",
    "  f.write(tflite_quant_model)"
   ]
  },
  {
   "cell_type": "code",
   "execution_count": 24,
   "id": "c3c8f991",
   "metadata": {},
   "outputs": [
    {
     "name": "stderr",
     "output_type": "stream",
     "text": [
      "2023-03-26 17:48:44.038550: W tensorflow/compiler/mlir/lite/python/tf_tfl_flatbuffer_helpers.cc:362] Ignored output_format.\n",
      "2023-03-26 17:48:44.038567: W tensorflow/compiler/mlir/lite/python/tf_tfl_flatbuffer_helpers.cc:365] Ignored drop_control_dependency.\n",
      "2023-03-26 17:48:44.038644: I tensorflow/cc/saved_model/reader.cc:45] Reading SavedModel from: my_model\n",
      "2023-03-26 17:48:44.039659: I tensorflow/cc/saved_model/reader.cc:89] Reading meta graph with tags { serve }\n",
      "2023-03-26 17:48:44.039665: I tensorflow/cc/saved_model/reader.cc:130] Reading SavedModel debug info (if present) from: my_model\n",
      "2023-03-26 17:48:44.042602: I tensorflow/cc/saved_model/loader.cc:229] Restoring SavedModel bundle.\n",
      "2023-03-26 17:48:44.078927: I tensorflow/cc/saved_model/loader.cc:213] Running initialization op on SavedModel bundle at path: my_model\n",
      "2023-03-26 17:48:44.086605: I tensorflow/cc/saved_model/loader.cc:305] SavedModel load for tags { serve }; Status: success: OK. Took 47962 microseconds.\n",
      "fully_quantize: 0, inference_type: 6, input_inference_type: UINT8, output_inference_type: UINT8\n"
     ]
    }
   ],
   "source": [
    "from tensorflow.python.ops.numpy_ops import np_config\n",
    "np_config.enable_numpy_behavior()\n",
    "\n",
    "sample = train_images.astype(np.float32)\n",
    "# 2. Full integer quantization\n",
    "def representative_data_gen():\n",
    "  for input_value in tf.data.Dataset.from_tensor_slices((sample)).batch(1).take(100):\n",
    "    yield [input_value]\n",
    "\n",
    "converter = tf.lite.TFLiteConverter.from_saved_model('my_model')\n",
    "converter.optimizations = [tf.lite.Optimize.DEFAULT]\n",
    "converter.representative_dataset = representative_data_gen\n",
    "# print(list(representative_data_gen().as_numpy_iterator()))\n",
    "converter.target_spec.supported_ops = [tf.lite.OpsSet.TFLITE_BUILTINS_INT8]\n",
    "converter.inference_input_type = tf.uint8\n",
    "converter.inference_output_type = tf.uint8\n",
    "tflite_full_int_quant_model = converter.convert()\n",
    "\n",
    "with open('my_model_full_int_quant.tflite', 'wb') as f:\n",
    "  f.write(tflite_full_int_quant_model)"
   ]
  },
  {
   "cell_type": "markdown",
   "id": "6d5e2050",
   "metadata": {},
   "source": [
    "### Save and deploy your TFLite model\n",
    "Save your converted TFLite models as binary files. Example code:\n",
    "```Python\n",
    "# Save the model.\n",
    "with open('model.tflite', 'wb') as f:\n",
    "  f.write(tflite_model)\n",
    "```\n",
    "\n",
    "To run execute the TFLite model on the RPi, you can refer to [this example][TFLite] for the details. In general, the following code is the standard process.\n",
    "#### Step 1: load the model and allocate the tensors\n",
    "We first need to instantiate the model with the TFLite model file, and then allocate all the tensors.\n",
    "```Python\n",
    "# Load the TFLite model and allocate tensors.\n",
    "interpreter = tf.lite.Interpreter(model_path=\"model.tflite\")\n",
    "interpreter.allocate_tensors()\n",
    "```\n",
    "#### Step 2: Check input and output info\n",
    "To get the input and output tensor's names and their corresponding sizes, we will first need do the following steps to extract these information.\n",
    "```Python\n",
    "# Get input and output tensors.\n",
    "input_details = interpreter.get_input_details()\n",
    "output_details = interpreter.get_output_details()\n",
    "```\n",
    "#### Step 3: Set input tensor and run the model\n",
    "Once we got the input tensor's name and shape, we can then set the input tensor and run the model.\n",
    "```Python\n",
    "# Test the model on random input data.\n",
    "input_shape = input_details[0]['shape']\n",
    "interpreter.set_tensor(input_details[0]['index'], input_data)\n",
    "\n",
    "# Run the model\n",
    "interpreter.invoke()\n",
    "```\n",
    "#### Step 4: Extract the output tensor\n",
    "We can finally run the `get_tensor(...)` function again to extract the output.\n",
    "```Python\n",
    "# The function `get_tensor()` returns a copy of the tensor data.\n",
    "# Use `tensor()` in order to get a pointer to the tensor.\n",
    "output_data = interpreter.get_tensor(output_details[0]['index'])\n",
    "print(output_data)\n",
    "```\n",
    "Once you confirm that the model is deployable on your RPi, you are ready to use the Coral Edge TPU to accelerate your computing. Please follow this [tutorial][TPU] to run your converted TFLite model on your Raspberry Pi with the Edge TPU.\n",
    "\n",
    "**Please convert your model with these two different methods and report their corresponding accuracy and inference time with the TFLite model on the RPi with and without the Edge TPU. Compare and comment on what you observed in the report.**\n",
    "\n",
    "[TFLite]:https://www.tensorflow.org/lite/guide/inference#load_and_run_a_model_in_python\n",
    "[TPU]:https://coral.ai/docs/accelerator/get-started/#3-run-a-model-on-the-edge-tpu"
   ]
  },
  {
   "cell_type": "markdown",
   "id": "d9f6fbdf",
   "metadata": {},
   "source": [
    "|                  | Dynamic Range Quantization | Full Integer Quantization |\n",
    "|------------------|----------------------------|---------------------------|\n",
    "| Without Edge TPU | 0.8624                     | 0.8935                    |\n",
    "| With Edge TPU    | N/A                        | 0.8941                    |"
   ]
  },
  {
   "cell_type": "markdown",
   "id": "8572578a",
   "metadata": {},
   "source": [
    "## PART III: Face Detection and Recognition\n",
    "\n",
    "In part III, you will have a chance to utilize your Raspberry Pi 4 as a powerful edge platform for human face detection and recognition applications. You will need to capture valid images using your PiCamera and port them into the recognition neural network with proper processing.\n"
   ]
  },
  {
   "cell_type": "markdown",
   "id": "7c76878e",
   "metadata": {},
   "source": [
    "### Prepare a Pre-trained Convolutional Neural Network\n",
    "#### **Introduction** \n",
    "\n",
    "In this part, you will use the award-winning \"very deep neural network\" for face recognition. It is the ILSVRC 2014 winner, GoogLeNet, and it also has the name ***Inception ResNet v1***. For more information, please refer to this [review][review_googlenet], and the original paper could be found [here][googlenet_paper]. The goal of this part is to reconstruct the Inception ResNet v1 with Keras APIs, load the given pre-trained weights, and convert the whole model into a TFLite model. You will need the knowledge from the previous parts of the lab.\n",
    "\n",
    "![googleNet](figures/overview.png)\n",
    "\n",
    "The original GooLeNet (Inception ResNet v1) is huge and complex. It has 22 major layers and more than 10 milion trainable parameters. Thus, it will be painful to reconstruct it using the same way you learned in **Part II** of this lab, i.e., listing out all layers in order by using `keras.Sequential` function.\n",
    "\n",
    "There is a better way to define a model architecture. You can use the pre-built Keras APIs to reconstruct the Inception Resnet v1. You can find all the layers [here][tf_keras_modules]. It may be helpful to have this page opened on aside while working on this part.\n",
    "\n",
    "For example, to apply two `tf.keras.layers.Conv2D`layers to the existing model `x`, you just need to \n",
    "```Python\n",
    "from tensorflow.keras.layers import Conv2D\n",
    "x = Conv2D(...)(x)\n",
    "x = Conv2D(...)(x)\n",
    "```\n",
    "The output of model `x` on the left side will be connected by a new `Conv2D` layer and the resulting new model will be assigned to `x` on the right side. By doing this repeatedly in proper order, you achieve the same goal as using `keras.Sequential`.\n",
    "\n",
    "The given files structure is listed as,\n",
    "```bash\n",
    ".\n",
    "├── lab2_part3.py\n",
    "├── inception_resnet.py\n",
    "├── resnet_block.py\n",
    "├── conv2d_bn.py\n",
    "├── modules.py \n",
    "└── weights\n",
    "    └── inception_keras_weights.h5\n",
    "```\n",
    "\n",
    "We have provided the `modules.py` and `resnet_block.py` for you, and we expect you NOT to modify this file. You will need to implement code blocks within `conv2d_bn.py` and `inception_resnet.py` according to the instructions and parameters given to you. \n",
    "\n",
    "Because of the dependencies between functions, it's highly recommended that you implement the codes following the order of steps below. **Notice: while applying a new Keras layer, please make sure you include the `name=` argument.** This will not affect the functionality of your model, but it's helpful for you to locate problematic layers. You can follow the convention of the example blocks/layers to name your layers/blocks with the `name_fmt` and `generate_layer_name` function.\n",
    "\n",
    "[review_googlenet]:https://medium.com/coinmonks/paper-review-of-googlenet-inception-v1-winner-of-ilsvlc-2014-image-classification-c2b3565a64e7\n",
    "[googlenet_paper]:https://www.cs.unc.edu/~wliu/papers/GoogLeNet.pdf\n",
    "[tf_keras_modules]:https://www.tensorflow.org/api_docs/python/tf/keras/layers"
   ]
  },
  {
   "cell_type": "markdown",
   "id": "89e53328",
   "metadata": {},
   "source": [
    "#### Step 1: **Implement `conv2d_bn(*)` function**\n",
    "\n",
    "`conv2d_bn(*)` is defined in the `conv2d_bn.py`. We have imported all the Keras layer APIs for you, and thus you can directly use them by calling their names, such as [`Conv2D`][Conv2D] and [`Activation`][Activation].\n",
    "\n",
    "This function is relatively simple and helps you get familiar with the Keras format. Look for **`## TO DO`** in the function.\n",
    "\n",
    "`## TO DO Step1`: Apply a `Conv2D` layer to model `x`, with all useful parameters listed as arguments in the function signature of`conv2d_bn(*)`. Assign the new model back to `x`. When calling `Conv2D`, make sure all the available input arguments for the `conv2d_bn()` function are used.\n",
    "\n",
    "`## TO DO Step2`: Apply a Batch Normalization layer to model `x`, with \n",
    "\n",
    "| Arguments        | Values                        \n",
    "|---------------:|--------------------------------------:|\n",
    "| axis |             bn_axis          |          \n",
    "| momentum |              0.995          |          \n",
    "| epsilon |               0.001       |           \n",
    "| scale |               False       |    \n",
    "| name  |    bn_name  |\n",
    "\n",
    "`## TO DO Step3`: Apply an Activation layer to model `x`, with the argument `activation` passed into the `conv2d_bn(*)`. Use `ac_name` as the name for the layer.\n",
    "\n",
    "[Conv2D]:https://www.tensorflow.org/api_docs/python/tf/keras/layers/Conv2D\n",
    "[Activation]:https://www.tensorflow.org/api_docs/python/tf/keras/layers/Activation"
   ]
  },
  {
   "cell_type": "markdown",
   "id": "72fe8179",
   "metadata": {},
   "source": [
    "#### Step 2: **Familiarize with `inception_resnet_block(*)` function**\n",
    "\n",
    "`inception_resnet_block(*)` is defined in the `resnet_block.py`. The function defines three different types of Inception ResNet blocks `Inception_block_a`, `Inception_block_b`and `Inception_block_c`.\n",
    "\n",
    "The function implements reusable building blocks for inception blocks in the Inception ResNet v1. You can imagine this function as the pre-built bricks in LEGO, and what you need to do is to put them in the proper places when you build the entire network.\n",
    "\n",
    "[ResNet][resnet_ex] or Residual Netoworks has a very special stucture called **shortcut**. \n",
    "\n",
    "<div>\n",
    "<img src=\"figures/resnet_shortcut.png\" width=\"200\">\n",
    "</div>\n",
    "\n",
    "\n",
    "In a more general sense, it allows multiple parallel paths, or \"branches\", through the neural network. These \"branches\" are merged or aggregated by a specific layer named `Concatenate`. For example, in `Inception_block_c`, we have two branches: `branch_0` and `branch_1`. `branch_0` has one Conv 2D layer with 192 output channels and a kernel size of *1x1*. `branch_1` has three Conv 2D layers with 192 output channels and kernel sizes of *1x1*, *1x3*, and *3x1*.\n",
    "\n",
    "<div>\n",
    "<img src=\"figures/inception_c.png\" width=\"200\">\n",
    "</div>\n",
    "\n",
    "\n",
    "\n",
    "[resnet_ex]:https://d2l.ai/chapter_convolutional-modern/resnet.html"
   ]
  },
  {
   "cell_type": "markdown",
   "id": "e7e2fc3e",
   "metadata": {},
   "source": [
    "#### Step 3: **Finish the Inception ResNet Structure**\n",
    "\n",
    "Now, with the building blocks that you have prepared in previous steps, you have three powerful tools to build the actual Inception ResNet v1, a very deep convolutional neural network that has 448 layers and sublayers. (You do not even want to list out all of these layers.)\n",
    "\n",
    "The overview of the Inception ResNet v1 is,\n",
    "\n",
    "<div>\n",
    "<img src=\"figures/inception_resnet_overview.png\">\n",
    "</div>\n",
    "\n",
    "\n",
    "You need `tensorflow.keras.layers`, `conv2d_bn(*)`, and `resnet_block(*)` to build the network. Follow the instructions and hints below to finish the whole convolutional neural network.\n",
    "\n",
    "`## TO DO Step1`: Finish the Maxpooling 2D preprocessing for model `x` with,\n",
    "\n",
    "| Layers          | Configuration                        |Output Dimensions |\n",
    "|---------------:|--------------------------------------:| ----------------------------------------: |\n",
    "| conv2d_bn |  input size = (79, 79, 32), kernel size = (3, 3), padding='valid' | (77, 77, 32) |\n",
    "| conv2d_bn |  connect to previous, kernel size = (3, 3) | (77, 77, 64) |     \n",
    "| MaxPooling2D |  connect to previous, pool_size = (2, 2), stride = 2   | (38, 38, 64) |\n",
    "| conv2d_bn |  connect to previous, kernel size = (1, 1), padding='valid' | (38, 38, 80) |\n",
    "| conv2d_bn |  connect to previous, kernel size = (3, 3), padding='valid'  | (36, 36, 192) |\n",
    "| conv2d_bn |  connect to previous, kernel size = (3, 3), stride = 2, padding='valid'  | (17, 17, 256) |\n",
    "  \n",
    "\n",
    "`## TO DO Step2`: Instantiate **5 connected** Inception ResNet *block_type_a* using,\n",
    "\n",
    "| scale         | block_idx       | block_type |\n",
    "|---------------:|------------:| --------------------------: |\n",
    "| 0.17 |  1 to 5 | Inception_block_a |\n",
    "\n",
    "`## TO DO Step3`: Instantiate **10 connected** Inception ResNet *block_type_b* using,\n",
    "\n",
    "| scale         | block_idx         | block_type |\n",
    "|---------------:|------------------:| -------------------------: |\n",
    "| 0.1 |  1 to 10 | Inception_block_b |\n",
    "\n",
    "`## TO DO Step4`: Instantiate **5 connected** Inception ResNet *block_type_c* using,\n",
    "\n",
    "| scale         | block_idx       | block_type |\n",
    "|---------------:|----------------:| -----------------: |\n",
    "| 0.2 |  1 to 5 | Inception_block_c |\n",
    "\n",
    "`## TO DO Step5`: Apply Global Average Pooling (`GloablAveragePooling2D(...)`) + Dropout (`Drop(...)`) layers to model `x`. You can find the documentation of these layers [here][GAP] and [here][Dropout]. For the Dropout layer, use `dropout_keep_prob` to properly calculate the `rate` argument of the `Dropout` layer. (Hint: what's the relationship between \"keep\" and \"dropout\"?)\n",
    "\n",
    "[GAP]:https://www.tensorflow.org/api_docs/python/tf/keras/layers/GlobalAveragePooling2D\n",
    "[DropOut]:https://www.tensorflow.org/api_docs/python/tf/keras/layers/Dropout"
   ]
  },
  {
   "cell_type": "markdown",
   "id": "0e823952",
   "metadata": {},
   "source": [
    "####  **Step 4: Compile the model and load weights**\n",
    "\n",
    "The structure of Inception ResNet v1 is completed and ready to be compiled. Implement your code in `lab2_part3.py`. This file will be the place where your main logic should go.\n",
    "\n",
    "To compile a model, simply do\n",
    "```Python\n",
    "model = InceptionResNetV1Norm();\n",
    "```\n",
    "**You may see some warnings due to TensorFlow version difference, but they do not usually matter.*\n",
    "\n",
    "Now try to print your model's summary to find out the number of trainable parameters and the number of layers. You will need these numbers while writing your report.\n",
    "\n",
    "To load the pre-trained weights, use `model.load_weights(*)`. We have prepared the weights for you located at `\"weights/inception_keras_weights.h5\"`.\n",
    "\n",
    "At this point, if your model loads without any other errors, then your model implementation is correct."
   ]
  },
  {
   "cell_type": "markdown",
   "id": "f728410e",
   "metadata": {},
   "source": [
    "#### Step 5: **Convert the model into TFLite model**\n",
    "If you reach here without any problem, your implementation for Inception ResNet v1 should be basically correct. \n",
    "\n",
    "Unfortunately, there is no easy way to partially verify your implementation, so if you meet any errors that stall the process, you should go back to previous steps to fix any existing problem before proceeding.\n",
    "\n",
    "Follow the same instructions as **Convert Your Trained Model to TFLite model** in **Part II**. You **do not** need to apply post-training quantization this time."
   ]
  },
  {
   "cell_type": "code",
   "execution_count": 28,
   "id": "4a168af9",
   "metadata": {},
   "outputs": [
    {
     "name": "stderr",
     "output_type": "stream",
     "text": [
      "2023-03-26 23:59:09.191839: W tensorflow/compiler/mlir/lite/python/tf_tfl_flatbuffer_helpers.cc:362] Ignored output_format.\n",
      "2023-03-26 23:59:09.191879: W tensorflow/compiler/mlir/lite/python/tf_tfl_flatbuffer_helpers.cc:365] Ignored drop_control_dependency.\n",
      "2023-03-26 23:59:09.192895: I tensorflow/cc/saved_model/reader.cc:45] Reading SavedModel from: inception_resnet_model\n",
      "2023-03-26 23:59:09.232827: I tensorflow/cc/saved_model/reader.cc:89] Reading meta graph with tags { serve }\n",
      "2023-03-26 23:59:09.232848: I tensorflow/cc/saved_model/reader.cc:130] Reading SavedModel debug info (if present) from: inception_resnet_model\n",
      "2023-03-26 23:59:09.355602: I tensorflow/cc/saved_model/loader.cc:229] Restoring SavedModel bundle.\n",
      "2023-03-26 23:59:10.010750: I tensorflow/cc/saved_model/loader.cc:213] Running initialization op on SavedModel bundle at path: inception_resnet_model\n",
      "2023-03-26 23:59:10.194458: I tensorflow/cc/saved_model/loader.cc:305] SavedModel load for tags { serve }; Status: success: OK. Took 1001794 microseconds.\n"
     ]
    }
   ],
   "source": [
    "# TODO: Convert to TFLite\n",
    "converter = tf.lite.TFLiteConverter.from_saved_model('inception_resnet_model') # path to the SavedModel directory\n",
    "tflite_model = converter.convert()\n",
    "\n",
    "# Save the model.\n",
    "with open('inception_resnet_model.tflite', 'wb') as f:\n",
    "  f.write(tflite_model)"
   ]
  },
  {
   "cell_type": "markdown",
   "id": "2235ab28",
   "metadata": {},
   "source": [
    "### Face detection and recognition with MTCNN & FaceNet and integration with PiCamera\n",
    "\n",
    "Now that you have converted our network to a TensorFlow Lite model, you can start integrating all the components that you have implemented so far towards a more realistic face detection and recognition system."
   ]
  },
  {
   "cell_type": "markdown",
   "id": "48cd51bd",
   "metadata": {},
   "source": [
    "#### Step 1: Image capturing with PiCamera\n",
    "The first step of the work is to implement a simple function that can capture an image using the PiCamera and convert it to the forms that the neural networks can use. More specifically, in this lab, you will use the very basic image capturing feature of the PiCamera and transform the captured image into an OpenCV object.\n",
    "\n",
    "You can refer to the \"Capturing to an OpenCV object\" section of the [PiCamera package documentation][PiCamera] for the details of capturing images with the PiCamera and fill in the following image function with the given signature. The returned object should be a 3-D tensor, with the three channels in RGB order.\n",
    "\n",
    "[PiCamera]:https://picamera.readthedocs.io/en/release-1.10/recipes1.html#capturing-to-an-opencv-object"
   ]
  },
  {
   "cell_type": "code",
   "execution_count": 12,
   "id": "241d7539",
   "metadata": {},
   "outputs": [
    {
     "ename": "ModuleNotFoundError",
     "evalue": "No module named 'cv2'",
     "output_type": "error",
     "traceback": [
      "\u001b[0;31m---------------------------------------------------------------------------\u001b[0m",
      "\u001b[0;31mModuleNotFoundError\u001b[0m                       Traceback (most recent call last)",
      "Cell \u001b[0;32mIn[12], line 1\u001b[0m\n\u001b[0;32m----> 1\u001b[0m \u001b[39mimport\u001b[39;00m \u001b[39mcv2\u001b[39;00m\n\u001b[1;32m      2\u001b[0m \u001b[39mimport\u001b[39;00m \u001b[39mpicamera\u001b[39;00m\n\u001b[1;32m      3\u001b[0m \u001b[39mimport\u001b[39;00m \u001b[39mnumpy\u001b[39;00m \u001b[39mas\u001b[39;00m \u001b[39mnp\u001b[39;00m\n",
      "\u001b[0;31mModuleNotFoundError\u001b[0m: No module named 'cv2'"
     ]
    }
   ],
   "source": [
    "import cv2\n",
    "import picamera\n",
    "import numpy as np\n",
    "def capture_image():\n",
    "    # Instrctor note: this can be directly taken from the PiCamera documentation\n",
    "    # Create the in-memory stream\n",
    "    stream = io.BytesIO()\n",
    "    with picamera.PiCamera() as camera:\n",
    "        camera.capture(stream, format='jpeg')\n",
    "        \n",
    "    # Construct a numpy array from the stream\n",
    "    data = np.frombuffer(stream.getvalue(), dtype=np.uint8)\n",
    "    \n",
    "    # \"Decode\" the image from the array, preserving colour\n",
    "    image = cv2.imdecode(data, 1)\n",
    "    \n",
    "    # OpenCV returns an array with data in BGR order. \n",
    "    # The following code invert the order of the last dimension.\n",
    "    image = image[:, :, ::-1]\n",
    "    return image"
   ]
  },
  {
   "cell_type": "code",
   "execution_count": null,
   "id": "379ecd96",
   "metadata": {},
   "outputs": [],
   "source": [
    "import cv2\n",
    "from picamera2 import Picamera2\n",
    "import numpy as np\n",
    "\n",
    "def capture_image():\n",
    "    # Instrctor note: this can be directly taken from the PiCamera documentation\n",
    "    # Create the in-memory stream\n",
    "    stream = io.BytesIO()\n",
    "    with PiCamera2() as camera:\n",
    "        camera.capture_file(stream, format='jpeg')\n",
    "        \n",
    "    # Construct a numpy array from the stream\n",
    "    data = np.frombuffer(stream.getvalue(), dtype=np.uint8)\n",
    "    \n",
    "    # \"Decode\" the image from the array, preserving colour\n",
    "    image = cv2.imdecode(data, 1)\n",
    "    \n",
    "    # OpenCV returns an array with data in BGR order. \n",
    "    # The following code invert the order of the last dimension.\n",
    "    image = image[:, :, ::-1]\n",
    "    return image"
   ]
  },
  {
   "cell_type": "code",
   "execution_count": null,
   "id": "e841f607",
   "metadata": {},
   "outputs": [],
   "source": [
    "from picamera2 import Picamera2, Preview\n",
    "import time\n",
    "\n",
    "picam2 = Picamera2()\n",
    "camera_config = picam2.create_preview_configuration()\n",
    "picam2.configure(camera_config)\n",
    "picam2.start_preview(Preview.DRM)\n",
    "picam2.start()\n",
    "time.sleep(2)\n",
    "picam2.capture_file(\"test.jpg\")"
   ]
  },
  {
   "cell_type": "markdown",
   "id": "9a542a5a",
   "metadata": {},
   "source": [
    "#### Step 2: Face detection\n",
    "\n",
    "In general, face detection can be seen as a special case of object detection, where there is only one object class, namely, \"human face\". The [Multi-Task Cascaded Convolutional Networks (MTCNN)][MTCNN] is one of the pioneering works in this area. It is purposedly built for detecting human faces and also identifying the keypoints (eyes, nose, and mouth). It is one of the most popular and successful networks in this area.\n",
    "\n",
    "For this part of the lab, you will use an easy-to-use Python package for MTCNN, which provides a simple API for performing face detections, which suites our needs for this lab. However, you should notice that, while having a convenient python package, MTCNN is not dedicated to real-time detection on mobile devices. Therefore the inference latency is a few seconds on the Raspberry Pi.\n",
    "\n",
    "For this step, you will first instantiate the MTCNN from the mtcnn package. Then, write a function that does the following operations. The function prototype is given to you:\n",
    "1. Perform face detection with MTCNN and extract the bounding box of the first image.\n",
    "2. Add a 20% margin to each dimension of the bounding box, such that the bounding box is 120% of the original size in each dimension. That is, the bounding box is expanded by 10% in each direction(up, down, left, right).\n",
    "3. Perform image cropping according to the coordinate of the extended bounding box.\n",
    "4. Return the cropped image and the coordinates (x, y, w, h) of the bounding box.\n",
    "5. Finally, display the bounding box in the original image.\n",
    "\n",
    "To help you implement the code, here are some useful tips and links:\n",
    "- For simplicity, you can assume that there is only one face in the input image.\n",
    "- The basic usage of MTCNN can be found in the MTCNN python package description [here][MTCNN_package]. As you may find out, the interface is very compact and intuitive. For this lab, you only need the 'box' from the output, which specifies the coordinates of a corner and the dimensions of the bounding box.\n",
    "- Performing the cropping on the OpenCV image is basically the same as working on a NumPy array, which you have already implemented in Lab 1. So you can borrow from your Lab 1 code if needed.\n",
    "- To help you to draw the bounding box, we provide a function here that can do it for you.\n",
    "\n",
    "[MTCNN]:https://kpzhang93.github.io/MTCNN_face_detection_alignment/\n",
    "[MTCNN_package]:https://pypi.org/project/mtcnn/"
   ]
  },
  {
   "cell_type": "code",
   "execution_count": null,
   "id": "fa64c217",
   "metadata": {},
   "outputs": [],
   "source": [
    "from mtcnn.mtcnn import MTCNN\n",
    "def detect_and_crop(mtcnn, image):\n",
    "    detection = mtcnn.detect_faces(image)[0] # 1\n",
    "    \n",
    "    box = detection['box']\n",
    "    new_dim = [box[0]*0.9, box[1]*0.9, box[2]*1.2, box[3]*1.2] # 2\n",
    "    image[new_dim[1]:new_dim[1]+new_dim[3], new_dim[0]:new_dim[0]+new_dim[2]]\n",
    "    \n",
    "    return image, new_dim"
   ]
  },
  {
   "cell_type": "code",
   "execution_count": null,
   "id": "5f057680",
   "metadata": {},
   "outputs": [],
   "source": [
    "# function provided for the students to draw the rectangle\n",
    "import matplotlib.pyplot as plt\n",
    "from matplotlib.patches import Rectangle\n",
    "def show_bounding_box(image, bounding_box):\n",
    "    x1, y1, w, h = bounding_box\n",
    "    fig, ax = plt.subplots(1,1)\n",
    "    ax.imshow(image)\n",
    "    ax.add_patch(Rectangle((x1, y1), w, h, linewidth=1, edgecolor='r', facecolor='none'))\n",
    "    plt.show()\n",
    "    return"
   ]
  },
  {
   "cell_type": "code",
   "execution_count": null,
   "id": "db282f6c",
   "metadata": {},
   "outputs": [],
   "source": [
    "mtcnn = MTCNN()\n",
    "image = capture_image()\n",
    "cropped_image = detect_and_crop(mtcnn, image)"
   ]
  },
  {
   "cell_type": "markdown",
   "id": "178b9bbb",
   "metadata": {},
   "source": [
    "### Step 3: Face Recognition\n",
    "\n",
    "Once the faces are detected in the picture, you can then use your FaceNet to perform recognition of the faces. This step is a continuation of Part 3.1, and you now need to pass the image to the face recognition network and get the output feature vector.\n",
    "\n",
    "Before passing the input image to the model, you need to preprocess the image, which includes resizing the image to the expected size of the model and standardize values across the channels. For your convenience, the preprocessing function is provided.\n",
    "\n",
    "The run_model function should perform the following tasks:\n",
    "- Extract the input and output shape details from the model\n",
    "- Set the input tensor\n",
    "- Invoke the model\n",
    "- Extract and return the output tensor\n",
    "\n",
    "This is almost a standard process of running TensorFlow Lite models. You can refer to [this example][TFLite] for the details, you need very few changes in general.\n",
    "\n",
    "Finally, write a short script that calls the functions and perform the following steps:\n",
    "1. Load the TensorFlow Lite model\n",
    "2. Allocate the tensors\n",
    "3. Preprocess the cropped image\n",
    "4. Run the model on the preprocessed image and save the output tensor\n",
    "\n",
    "[TFLite]:https://www.tensorflow.org/lite/guide/inference#load_and_run_a_model_in_python"
   ]
  },
  {
   "cell_type": "code",
   "execution_count": null,
   "id": "39945df3",
   "metadata": {},
   "outputs": [],
   "source": [
    "# preprocessing function provided to the students\n",
    "def pre_process(face, required_size=(160, 160)):\n",
    "    ret = cv2.resize(face, required_size)\n",
    "    ret = ret.astype('float32')\n",
    "    mean, std = ret.mean(), ret.std()\n",
    "    ret = (ret - mean) / std\n",
    "    return ret"
   ]
  },
  {
   "cell_type": "code",
   "execution_count": null,
   "id": "5a88a786",
   "metadata": {},
   "outputs": [],
   "source": [
    "def run_model(model, face):\n",
    "    interpreter = tf.lite.Interpreter(model)\n",
    "    interpreter.allocate_tensors()\n",
    "\n",
    "    # Get input and output tensors.\n",
    "    input_details = interpreter.get_input_details()\n",
    "    output_details = interpreter.get_output_details()\n",
    "\n",
    "    # Test the model on random input data.\n",
    "    input_shape = input_details[0]['shape']\n",
    "    interpreter.set_tensor(input_details[0]['index'], )\n",
    "\n",
    "    interpreter.invoke()\n",
    "\n",
    "    # The function `get_tensor()` returns a copy of the tensor data.\n",
    "    # Use `tensor()` in order to get a pointer to the tensor.\n",
    "    output_data = interpreter.get_tensor(output_details[0]['index'], face)\n",
    "    print(output_data)\n",
    "    #return output_data"
   ]
  },
  {
   "cell_type": "code",
   "execution_count": null,
   "id": "a25a74cd",
   "metadata": {},
   "outputs": [],
   "source": [
    "tfl_file = \"./code/model.tflite\"\n",
    "interpreter = tf.lite.Interpreter(model_path=tfl_file)\n",
    "interpreter.allocate_tensors()"
   ]
  },
  {
   "cell_type": "markdown",
   "id": "1873addb",
   "metadata": {},
   "source": [
    "### Step 4: Verification and Report\n",
    "\n"
   ]
  },
  {
   "cell_type": "markdown",
   "id": "6b0cf360",
   "metadata": {},
   "source": [
    "To verify the correct functionality of your face recognition system, you will need to calculate the euclidean distances between the feature vectors of pictures of yourself and other people. If the distance between your pictures is significantly smaller than the distance between the pictures of you and other people, then your network basically functions as expected.\n",
    "\n",
    "The distance between the feature vectors can be evaluated with the euclidean distance as you have implemented in Lab 1. We provide a read_image() function here for you to read images from files easily.\n",
    "\n",
    "To demonstrate the functionality of your network, in your final report include **Distances between pairs of pictures, picked from 2 pictures of yourself, and 2 pictures of other people (6 possible pairs in total). Also show all 4 pictures in your report.**\n",
    "\n",
    "(You can choose the pictures of other people freely. They can be headshots of the TAs on the course website or other famous people if you want.)"
   ]
  },
  {
   "cell_type": "code",
   "execution_count": null,
   "id": "3ccd3d90",
   "metadata": {},
   "outputs": [],
   "source": [
    "# process the second image of the first person\n",
    "\n",
    "# 1. Read the image\n",
    "# 2. Detect and Crop\n",
    "# 3. Proprocess\n",
    "# 4. Run the model\n",
    "\n",
    "# process the image of the second person\n",
    "\n",
    "# Do the comparison of the distance"
   ]
  },
  {
   "cell_type": "markdown",
   "id": "7af775b0",
   "metadata": {},
   "source": [
    "## Report Requirements & Grading (10 pts)\n",
    "You need to turn in a report and the code. You may turn in a separately-written report, but **in general, we recommend that you directly use the provided Jupyter Notebook and turn it in as your report.** For the first half of Part III, you don't need to implement all the code in the notebook, but you can run the load model step in the notebooks to demonstrate the result.\n",
    "\n",
    "### Part 1: (2 pts)\n",
    "* Show the command/code and output for getting the following (0.5 points each):\n",
    "    1. The CPU spec\n",
    "    2. The network configuration\n",
    "    3. The TensorFlow checks (version, GPU, etc.)\n",
    "* You can make screenshots of both the command/code and the resulting output or paste them directly into the report or the notebook.\n",
    "  \n",
    "### Part 2: (4 pts)\n",
    "* For each of the steps, briefly explain your approach and include the key outputs.\n",
    "* Show the training and testing accuracy of your model. For full credit, the testing accuracy should be over 85% and training accuracy should be over 90%. (2 Points)\n",
    "* Show the plots of train and validation loss and accuracy, similar to the ones shown before. (1 Point)\n",
    "* Show the accuracy and inference time of the TFLite models quantized with the two methods with and without the USB accelerator. Compare and comment on what you observed in the report. There might be no significant improvements in terms of performance, but you should try to understand and explain why in your report. (1 Point)\n",
    "  \n",
    "### Part 3: (4 pts)\n",
    "* For each of the steps, briefly explain your approach and include the key outputs.\n",
    "* Show the output of loading weights for your model to confirm that your model is correctly implemented. You can get partial credit if you cannot load the model correctly. (2 Points)\n",
    "* Show the bounding box of the face detected by MTCNN in the captured image, as described in the 'Face Detection' section of Part III. (1 Point)\n",
    "* Report the distances between pairs of pictures, picked from 4 pictures: 2 of yourself and 2 of other people (6 pairs in total). Also, show all 4 pictures in your report. (1 Point)\n",
    "\n",
    "### Notes: \n",
    "* Besides the above requirements, your report should also include the following details: \n",
    "  * Your full name and your NetID.\n",
    "  * The difficulties/bugs you encountered and how you solved them\n",
    "  * What you learned from this lab\n",
    "* Your report should cover all the required information, but please keep your report clean and concise.\n",
    "* Please add references to your report if you referred to any resources when you work on your lab.\n",
    "* Please submit your **report** and **code**, or the **Jupyter Notebook** to Canvas\n"
   ]
  },
  {
   "cell_type": "code",
   "execution_count": null,
   "id": "fd676ac3",
   "metadata": {},
   "outputs": [],
   "source": []
  }
 ],
 "metadata": {
  "kernelspec": {
   "display_name": "ece479_tf",
   "language": "python",
   "name": "python3"
  },
  "language_info": {
   "codemirror_mode": {
    "name": "ipython",
    "version": 3
   },
   "file_extension": ".py",
   "mimetype": "text/x-python",
   "name": "python",
   "nbconvert_exporter": "python",
   "pygments_lexer": "ipython3",
   "version": "3.10.9"
  },
  "vscode": {
   "interpreter": {
    "hash": "f8e839a3891fe7562320e8601743d03e26881fa0823ccf2705534612101b07ab"
   }
  }
 },
 "nbformat": 4,
 "nbformat_minor": 5
}
